{
 "metadata": {
  "language_info": {
   "codemirror_mode": {
    "name": "ipython",
    "version": 3
   },
   "file_extension": ".py",
   "mimetype": "text/x-python",
   "name": "python",
   "nbconvert_exporter": "python",
   "pygments_lexer": "ipython3",
   "version": "3.7.9-final"
  },
  "orig_nbformat": 2,
  "kernelspec": {
   "name": "Python 3.7.9 64-bit ('project_a': conda)",
   "display_name": "Python 3.7.9 64-bit ('project_a': conda)",
   "metadata": {
    "interpreter": {
     "hash": "8ce313a6b3c9b78445350349fbd036912d75f990b40ef4004f3a4aa570c04acb"
    }
   }
  }
 },
 "nbformat": 4,
 "nbformat_minor": 2,
 "cells": [
  {
   "cell_type": "code",
   "execution_count": 1,
   "metadata": {},
   "outputs": [],
   "source": [
    "import numpy as np\n",
    "import pandas as pd\n",
    "from sklearn.model_selection import train_test_split\n",
    "from tensorflow.keras import Sequential\n",
    "from tensorflow.keras.layers import Dense\n",
    "from tensorflow.keras.optimizers import SGD\n",
    "from sklearn import preprocessing"
   ]
  },
  {
   "cell_type": "code",
   "execution_count": 2,
   "metadata": {},
   "outputs": [],
   "source": [
    "data = (r'C:\\Users\\Brick\\Documents\\Lambda_School\\data_by_genres.csv')\n",
    "data1 = (r'C:\\Users\\Brick\\Documents\\Lambda_School\\data.csv')"
   ]
  },
  {
   "cell_type": "code",
   "execution_count": 3,
   "metadata": {},
   "outputs": [],
   "source": [
    "df = pd.read_csv(data)\n",
    "df1 = pd.read_csv(data1)\n",
    "basic = pd.read_csv(data1)"
   ]
  },
  {
   "cell_type": "code",
   "execution_count": 4,
   "metadata": {},
   "outputs": [
    {
     "output_type": "execute_result",
     "data": {
      "text/plain": [
       "              genres  acousticness  danceability   duration_ms    energy  \\\n",
       "0              432hz      0.494780      0.299333  1.048887e+06  0.450678   \n",
       "1                 []      0.679245      0.521473  2.298526e+05  0.401522   \n",
       "2         a cappella      0.621532      0.577017  1.936522e+05  0.345694   \n",
       "3           abstract      0.359395      0.459500  3.430185e+05  0.487000   \n",
       "4     abstract beats      0.353347      0.694400  2.338244e+05  0.613400   \n",
       "...              ...           ...           ...           ...       ...   \n",
       "2659            zolo      0.218600      0.560365  2.675453e+05  0.611985   \n",
       "2660         zouglou      0.124000      0.834000  2.951470e+05  0.674000   \n",
       "2661            zouk      0.233181      0.752762  2.951100e+05  0.627238   \n",
       "2662     zouk riddim      0.052700      0.776000  2.293330e+05  0.656000   \n",
       "2663          zydeco      0.347767      0.596992  1.788379e+05  0.603610   \n",
       "\n",
       "      instrumentalness  liveness   loudness  speechiness       tempo  \\\n",
       "0             0.477762  0.131000 -16.854000     0.076817  120.285667   \n",
       "1             0.196737  0.221586 -12.679076     0.112267  112.025168   \n",
       "2             0.003799  0.127087 -12.770211     0.095324  111.813230   \n",
       "3             0.791400  0.119480 -14.092000     0.043420  124.743200   \n",
       "4             0.349403  0.102453  -6.699800     0.143453  119.398400   \n",
       "...                ...       ...        ...          ...         ...   \n",
       "2659          0.152665  0.190792 -11.499268     0.064295  123.283566   \n",
       "2660          0.000000  0.082800 -13.455000     0.072100  119.039000   \n",
       "2661          0.301195  0.083224 -10.864476     0.038110  101.681762   \n",
       "2662          0.565000  0.044500 -14.316000     0.034100   99.981000   \n",
       "2663          0.017112  0.230891  -9.831258     0.050168  129.441970   \n",
       "\n",
       "       valence  popularity  key  mode  \n",
       "0     0.221750   52.166667    5     1  \n",
       "1     0.515920   21.682005    7     1  \n",
       "2     0.453186   43.351819   11     1  \n",
       "3     0.304990   41.500000    1     1  \n",
       "4     0.634187   58.600000   10     0  \n",
       "...        ...         ...  ...   ...  \n",
       "2659  0.596705   33.760410    9     1  \n",
       "2660  0.951000   56.000000    7     0  \n",
       "2661  0.844381   42.476190    4     1  \n",
       "2662  0.966000   24.000000    4     1  \n",
       "2663  0.752643   29.840152    7     1  \n",
       "\n",
       "[2664 rows x 14 columns]"
      ],
      "text/html": "<div>\n<style scoped>\n    .dataframe tbody tr th:only-of-type {\n        vertical-align: middle;\n    }\n\n    .dataframe tbody tr th {\n        vertical-align: top;\n    }\n\n    .dataframe thead th {\n        text-align: right;\n    }\n</style>\n<table border=\"1\" class=\"dataframe\">\n  <thead>\n    <tr style=\"text-align: right;\">\n      <th></th>\n      <th>genres</th>\n      <th>acousticness</th>\n      <th>danceability</th>\n      <th>duration_ms</th>\n      <th>energy</th>\n      <th>instrumentalness</th>\n      <th>liveness</th>\n      <th>loudness</th>\n      <th>speechiness</th>\n      <th>tempo</th>\n      <th>valence</th>\n      <th>popularity</th>\n      <th>key</th>\n      <th>mode</th>\n    </tr>\n  </thead>\n  <tbody>\n    <tr>\n      <th>0</th>\n      <td>432hz</td>\n      <td>0.494780</td>\n      <td>0.299333</td>\n      <td>1.048887e+06</td>\n      <td>0.450678</td>\n      <td>0.477762</td>\n      <td>0.131000</td>\n      <td>-16.854000</td>\n      <td>0.076817</td>\n      <td>120.285667</td>\n      <td>0.221750</td>\n      <td>52.166667</td>\n      <td>5</td>\n      <td>1</td>\n    </tr>\n    <tr>\n      <th>1</th>\n      <td>[]</td>\n      <td>0.679245</td>\n      <td>0.521473</td>\n      <td>2.298526e+05</td>\n      <td>0.401522</td>\n      <td>0.196737</td>\n      <td>0.221586</td>\n      <td>-12.679076</td>\n      <td>0.112267</td>\n      <td>112.025168</td>\n      <td>0.515920</td>\n      <td>21.682005</td>\n      <td>7</td>\n      <td>1</td>\n    </tr>\n    <tr>\n      <th>2</th>\n      <td>a cappella</td>\n      <td>0.621532</td>\n      <td>0.577017</td>\n      <td>1.936522e+05</td>\n      <td>0.345694</td>\n      <td>0.003799</td>\n      <td>0.127087</td>\n      <td>-12.770211</td>\n      <td>0.095324</td>\n      <td>111.813230</td>\n      <td>0.453186</td>\n      <td>43.351819</td>\n      <td>11</td>\n      <td>1</td>\n    </tr>\n    <tr>\n      <th>3</th>\n      <td>abstract</td>\n      <td>0.359395</td>\n      <td>0.459500</td>\n      <td>3.430185e+05</td>\n      <td>0.487000</td>\n      <td>0.791400</td>\n      <td>0.119480</td>\n      <td>-14.092000</td>\n      <td>0.043420</td>\n      <td>124.743200</td>\n      <td>0.304990</td>\n      <td>41.500000</td>\n      <td>1</td>\n      <td>1</td>\n    </tr>\n    <tr>\n      <th>4</th>\n      <td>abstract beats</td>\n      <td>0.353347</td>\n      <td>0.694400</td>\n      <td>2.338244e+05</td>\n      <td>0.613400</td>\n      <td>0.349403</td>\n      <td>0.102453</td>\n      <td>-6.699800</td>\n      <td>0.143453</td>\n      <td>119.398400</td>\n      <td>0.634187</td>\n      <td>58.600000</td>\n      <td>10</td>\n      <td>0</td>\n    </tr>\n    <tr>\n      <th>...</th>\n      <td>...</td>\n      <td>...</td>\n      <td>...</td>\n      <td>...</td>\n      <td>...</td>\n      <td>...</td>\n      <td>...</td>\n      <td>...</td>\n      <td>...</td>\n      <td>...</td>\n      <td>...</td>\n      <td>...</td>\n      <td>...</td>\n      <td>...</td>\n    </tr>\n    <tr>\n      <th>2659</th>\n      <td>zolo</td>\n      <td>0.218600</td>\n      <td>0.560365</td>\n      <td>2.675453e+05</td>\n      <td>0.611985</td>\n      <td>0.152665</td>\n      <td>0.190792</td>\n      <td>-11.499268</td>\n      <td>0.064295</td>\n      <td>123.283566</td>\n      <td>0.596705</td>\n      <td>33.760410</td>\n      <td>9</td>\n      <td>1</td>\n    </tr>\n    <tr>\n      <th>2660</th>\n      <td>zouglou</td>\n      <td>0.124000</td>\n      <td>0.834000</td>\n      <td>2.951470e+05</td>\n      <td>0.674000</td>\n      <td>0.000000</td>\n      <td>0.082800</td>\n      <td>-13.455000</td>\n      <td>0.072100</td>\n      <td>119.039000</td>\n      <td>0.951000</td>\n      <td>56.000000</td>\n      <td>7</td>\n      <td>0</td>\n    </tr>\n    <tr>\n      <th>2661</th>\n      <td>zouk</td>\n      <td>0.233181</td>\n      <td>0.752762</td>\n      <td>2.951100e+05</td>\n      <td>0.627238</td>\n      <td>0.301195</td>\n      <td>0.083224</td>\n      <td>-10.864476</td>\n      <td>0.038110</td>\n      <td>101.681762</td>\n      <td>0.844381</td>\n      <td>42.476190</td>\n      <td>4</td>\n      <td>1</td>\n    </tr>\n    <tr>\n      <th>2662</th>\n      <td>zouk riddim</td>\n      <td>0.052700</td>\n      <td>0.776000</td>\n      <td>2.293330e+05</td>\n      <td>0.656000</td>\n      <td>0.565000</td>\n      <td>0.044500</td>\n      <td>-14.316000</td>\n      <td>0.034100</td>\n      <td>99.981000</td>\n      <td>0.966000</td>\n      <td>24.000000</td>\n      <td>4</td>\n      <td>1</td>\n    </tr>\n    <tr>\n      <th>2663</th>\n      <td>zydeco</td>\n      <td>0.347767</td>\n      <td>0.596992</td>\n      <td>1.788379e+05</td>\n      <td>0.603610</td>\n      <td>0.017112</td>\n      <td>0.230891</td>\n      <td>-9.831258</td>\n      <td>0.050168</td>\n      <td>129.441970</td>\n      <td>0.752643</td>\n      <td>29.840152</td>\n      <td>7</td>\n      <td>1</td>\n    </tr>\n  </tbody>\n</table>\n<p>2664 rows × 14 columns</p>\n</div>"
     },
     "metadata": {},
     "execution_count": 4
    }
   ],
   "source": [
    "df"
   ]
  },
  {
   "cell_type": "code",
   "execution_count": 5,
   "metadata": {},
   "outputs": [
    {
     "output_type": "execute_result",
     "data": {
      "text/plain": [
       "        acousticness                                   artists  danceability  \\\n",
       "0             0.9950                       ['Carl Woitschach']         0.708   \n",
       "1             0.9940  ['Robert Schumann', 'Vladimir Horowitz']         0.379   \n",
       "2             0.6040                   ['Seweryn Goszczyński']         0.749   \n",
       "3             0.9950                      ['Francisco Canaro']         0.781   \n",
       "4             0.9900  ['Frédéric Chopin', 'Vladimir Horowitz']         0.210   \n",
       "...              ...                                       ...           ...   \n",
       "169904        0.1730                    ['DripReport', 'Tyga']         0.875   \n",
       "169905        0.0167        ['Leon Bridges', 'Terrace Martin']         0.719   \n",
       "169906        0.5380                     ['Kygo', 'Oh Wonder']         0.514   \n",
       "169907        0.0714             ['Cash Cash', 'Andy Grammer']         0.646   \n",
       "169908        0.1090                        ['Ingrid Andress']         0.512   \n",
       "\n",
       "        duration_ms  energy  explicit                      id  \\\n",
       "0            158648  0.1950         0  6KbQ3uYMLKb5jDxLF7wYDD   \n",
       "1            282133  0.0135         0  6KuQTIu1KoTTkLXKrwlLPV   \n",
       "2            104300  0.2200         0  6L63VW0PibdM1HDSBoqnoM   \n",
       "3            180760  0.1300         0  6M94FkXd15sOAOQYRnWPN8   \n",
       "4            687733  0.2040         0  6N6tiFZ9vLTSOIxkj8qKrd   \n",
       "...             ...     ...       ...                     ...   \n",
       "169904       163800  0.4430         1  4KppkflX7I3vJQk7urOJaS   \n",
       "169905       167468  0.3850         0  1ehhGlTvjtHo2e4xJFB0SZ   \n",
       "169906       180700  0.5390         0  52eycxprLhK3lPcRLbQiVk   \n",
       "169907       167308  0.7610         0  3wYOGJYD31sLRmBgCvWxa4   \n",
       "169908       214787  0.4280         0  60RFlt48hm0l4Fu0JoccOl   \n",
       "\n",
       "        instrumentalness  key  liveness  loudness  mode  \\\n",
       "0               0.563000   10    0.1510   -12.428     1   \n",
       "1               0.901000    8    0.0763   -28.454     1   \n",
       "2               0.000000    5    0.1190   -19.924     0   \n",
       "3               0.887000    1    0.1110   -14.734     0   \n",
       "4               0.908000   11    0.0980   -16.829     1   \n",
       "...                  ...  ...       ...       ...   ...   \n",
       "169904          0.000032    1    0.0891    -7.461     1   \n",
       "169905          0.031300    8    0.1110   -10.907     1   \n",
       "169906          0.002330    7    0.1080    -9.332     1   \n",
       "169907          0.000000    1    0.2220    -2.557     1   \n",
       "169908          0.000000    0    0.1050    -7.387     1   \n",
       "\n",
       "                                                 name  popularity  \\\n",
       "0                         Singende Bataillone 1. Teil           0   \n",
       "1            Fantasiestücke, Op. 111: Più tosto lento           0   \n",
       "2                      Chapter 1.18 - Zamek kaniowski           0   \n",
       "3       Bebamos Juntos - Instrumental (Remasterizado)           0   \n",
       "4         Polonaise-Fantaisie in A-Flat Major, Op. 61           1   \n",
       "...                                               ...         ...   \n",
       "169904                  Skechers (feat. Tyga) - Remix          75   \n",
       "169905                 Sweeter (feat. Terrace Martin)          64   \n",
       "169906                               How Would I Know          70   \n",
       "169907                                    I Found You          70   \n",
       "169908                          More Hearts Than Mine          65   \n",
       "\n",
       "       release_date  speechiness    tempo  valence  year  \n",
       "0              1928       0.0506  118.469   0.7790  1928  \n",
       "1              1928       0.0462   83.972   0.0767  1928  \n",
       "2              1928       0.9290  107.177   0.8800  1928  \n",
       "3        1928-09-25       0.0926  108.003   0.7200  1928  \n",
       "4              1928       0.0424   62.149   0.0693  1928  \n",
       "...             ...          ...      ...      ...   ...  \n",
       "169904   2020-05-15       0.1430  100.012   0.3060  2020  \n",
       "169905   2020-06-08       0.0403  128.000   0.2700  2020  \n",
       "169906   2020-05-29       0.1050  123.700   0.1530  2020  \n",
       "169907   2020-02-28       0.0385  129.916   0.4720  2020  \n",
       "169908   2020-03-27       0.0271   80.588   0.3660  2020  \n",
       "\n",
       "[169909 rows x 19 columns]"
      ],
      "text/html": "<div>\n<style scoped>\n    .dataframe tbody tr th:only-of-type {\n        vertical-align: middle;\n    }\n\n    .dataframe tbody tr th {\n        vertical-align: top;\n    }\n\n    .dataframe thead th {\n        text-align: right;\n    }\n</style>\n<table border=\"1\" class=\"dataframe\">\n  <thead>\n    <tr style=\"text-align: right;\">\n      <th></th>\n      <th>acousticness</th>\n      <th>artists</th>\n      <th>danceability</th>\n      <th>duration_ms</th>\n      <th>energy</th>\n      <th>explicit</th>\n      <th>id</th>\n      <th>instrumentalness</th>\n      <th>key</th>\n      <th>liveness</th>\n      <th>loudness</th>\n      <th>mode</th>\n      <th>name</th>\n      <th>popularity</th>\n      <th>release_date</th>\n      <th>speechiness</th>\n      <th>tempo</th>\n      <th>valence</th>\n      <th>year</th>\n    </tr>\n  </thead>\n  <tbody>\n    <tr>\n      <th>0</th>\n      <td>0.9950</td>\n      <td>['Carl Woitschach']</td>\n      <td>0.708</td>\n      <td>158648</td>\n      <td>0.1950</td>\n      <td>0</td>\n      <td>6KbQ3uYMLKb5jDxLF7wYDD</td>\n      <td>0.563000</td>\n      <td>10</td>\n      <td>0.1510</td>\n      <td>-12.428</td>\n      <td>1</td>\n      <td>Singende Bataillone 1. Teil</td>\n      <td>0</td>\n      <td>1928</td>\n      <td>0.0506</td>\n      <td>118.469</td>\n      <td>0.7790</td>\n      <td>1928</td>\n    </tr>\n    <tr>\n      <th>1</th>\n      <td>0.9940</td>\n      <td>['Robert Schumann', 'Vladimir Horowitz']</td>\n      <td>0.379</td>\n      <td>282133</td>\n      <td>0.0135</td>\n      <td>0</td>\n      <td>6KuQTIu1KoTTkLXKrwlLPV</td>\n      <td>0.901000</td>\n      <td>8</td>\n      <td>0.0763</td>\n      <td>-28.454</td>\n      <td>1</td>\n      <td>Fantasiestücke, Op. 111: Più tosto lento</td>\n      <td>0</td>\n      <td>1928</td>\n      <td>0.0462</td>\n      <td>83.972</td>\n      <td>0.0767</td>\n      <td>1928</td>\n    </tr>\n    <tr>\n      <th>2</th>\n      <td>0.6040</td>\n      <td>['Seweryn Goszczyński']</td>\n      <td>0.749</td>\n      <td>104300</td>\n      <td>0.2200</td>\n      <td>0</td>\n      <td>6L63VW0PibdM1HDSBoqnoM</td>\n      <td>0.000000</td>\n      <td>5</td>\n      <td>0.1190</td>\n      <td>-19.924</td>\n      <td>0</td>\n      <td>Chapter 1.18 - Zamek kaniowski</td>\n      <td>0</td>\n      <td>1928</td>\n      <td>0.9290</td>\n      <td>107.177</td>\n      <td>0.8800</td>\n      <td>1928</td>\n    </tr>\n    <tr>\n      <th>3</th>\n      <td>0.9950</td>\n      <td>['Francisco Canaro']</td>\n      <td>0.781</td>\n      <td>180760</td>\n      <td>0.1300</td>\n      <td>0</td>\n      <td>6M94FkXd15sOAOQYRnWPN8</td>\n      <td>0.887000</td>\n      <td>1</td>\n      <td>0.1110</td>\n      <td>-14.734</td>\n      <td>0</td>\n      <td>Bebamos Juntos - Instrumental (Remasterizado)</td>\n      <td>0</td>\n      <td>1928-09-25</td>\n      <td>0.0926</td>\n      <td>108.003</td>\n      <td>0.7200</td>\n      <td>1928</td>\n    </tr>\n    <tr>\n      <th>4</th>\n      <td>0.9900</td>\n      <td>['Frédéric Chopin', 'Vladimir Horowitz']</td>\n      <td>0.210</td>\n      <td>687733</td>\n      <td>0.2040</td>\n      <td>0</td>\n      <td>6N6tiFZ9vLTSOIxkj8qKrd</td>\n      <td>0.908000</td>\n      <td>11</td>\n      <td>0.0980</td>\n      <td>-16.829</td>\n      <td>1</td>\n      <td>Polonaise-Fantaisie in A-Flat Major, Op. 61</td>\n      <td>1</td>\n      <td>1928</td>\n      <td>0.0424</td>\n      <td>62.149</td>\n      <td>0.0693</td>\n      <td>1928</td>\n    </tr>\n    <tr>\n      <th>...</th>\n      <td>...</td>\n      <td>...</td>\n      <td>...</td>\n      <td>...</td>\n      <td>...</td>\n      <td>...</td>\n      <td>...</td>\n      <td>...</td>\n      <td>...</td>\n      <td>...</td>\n      <td>...</td>\n      <td>...</td>\n      <td>...</td>\n      <td>...</td>\n      <td>...</td>\n      <td>...</td>\n      <td>...</td>\n      <td>...</td>\n      <td>...</td>\n    </tr>\n    <tr>\n      <th>169904</th>\n      <td>0.1730</td>\n      <td>['DripReport', 'Tyga']</td>\n      <td>0.875</td>\n      <td>163800</td>\n      <td>0.4430</td>\n      <td>1</td>\n      <td>4KppkflX7I3vJQk7urOJaS</td>\n      <td>0.000032</td>\n      <td>1</td>\n      <td>0.0891</td>\n      <td>-7.461</td>\n      <td>1</td>\n      <td>Skechers (feat. Tyga) - Remix</td>\n      <td>75</td>\n      <td>2020-05-15</td>\n      <td>0.1430</td>\n      <td>100.012</td>\n      <td>0.3060</td>\n      <td>2020</td>\n    </tr>\n    <tr>\n      <th>169905</th>\n      <td>0.0167</td>\n      <td>['Leon Bridges', 'Terrace Martin']</td>\n      <td>0.719</td>\n      <td>167468</td>\n      <td>0.3850</td>\n      <td>0</td>\n      <td>1ehhGlTvjtHo2e4xJFB0SZ</td>\n      <td>0.031300</td>\n      <td>8</td>\n      <td>0.1110</td>\n      <td>-10.907</td>\n      <td>1</td>\n      <td>Sweeter (feat. Terrace Martin)</td>\n      <td>64</td>\n      <td>2020-06-08</td>\n      <td>0.0403</td>\n      <td>128.000</td>\n      <td>0.2700</td>\n      <td>2020</td>\n    </tr>\n    <tr>\n      <th>169906</th>\n      <td>0.5380</td>\n      <td>['Kygo', 'Oh Wonder']</td>\n      <td>0.514</td>\n      <td>180700</td>\n      <td>0.5390</td>\n      <td>0</td>\n      <td>52eycxprLhK3lPcRLbQiVk</td>\n      <td>0.002330</td>\n      <td>7</td>\n      <td>0.1080</td>\n      <td>-9.332</td>\n      <td>1</td>\n      <td>How Would I Know</td>\n      <td>70</td>\n      <td>2020-05-29</td>\n      <td>0.1050</td>\n      <td>123.700</td>\n      <td>0.1530</td>\n      <td>2020</td>\n    </tr>\n    <tr>\n      <th>169907</th>\n      <td>0.0714</td>\n      <td>['Cash Cash', 'Andy Grammer']</td>\n      <td>0.646</td>\n      <td>167308</td>\n      <td>0.7610</td>\n      <td>0</td>\n      <td>3wYOGJYD31sLRmBgCvWxa4</td>\n      <td>0.000000</td>\n      <td>1</td>\n      <td>0.2220</td>\n      <td>-2.557</td>\n      <td>1</td>\n      <td>I Found You</td>\n      <td>70</td>\n      <td>2020-02-28</td>\n      <td>0.0385</td>\n      <td>129.916</td>\n      <td>0.4720</td>\n      <td>2020</td>\n    </tr>\n    <tr>\n      <th>169908</th>\n      <td>0.1090</td>\n      <td>['Ingrid Andress']</td>\n      <td>0.512</td>\n      <td>214787</td>\n      <td>0.4280</td>\n      <td>0</td>\n      <td>60RFlt48hm0l4Fu0JoccOl</td>\n      <td>0.000000</td>\n      <td>0</td>\n      <td>0.1050</td>\n      <td>-7.387</td>\n      <td>1</td>\n      <td>More Hearts Than Mine</td>\n      <td>65</td>\n      <td>2020-03-27</td>\n      <td>0.0271</td>\n      <td>80.588</td>\n      <td>0.3660</td>\n      <td>2020</td>\n    </tr>\n  </tbody>\n</table>\n<p>169909 rows × 19 columns</p>\n</div>"
     },
     "metadata": {},
     "execution_count": 5
    }
   ],
   "source": [
    "basic"
   ]
  },
  {
   "cell_type": "code",
   "execution_count": 6,
   "metadata": {},
   "outputs": [],
   "source": [
    "df1 = df1.drop(columns=['artists','explicit','id','name','release_date','year'])"
   ]
  },
  {
   "cell_type": "code",
   "execution_count": 7,
   "metadata": {},
   "outputs": [],
   "source": [
    "#df1 = df1.drop(columns=['genres'])"
   ]
  },
  {
   "cell_type": "code",
   "execution_count": 8,
   "metadata": {},
   "outputs": [],
   "source": [
    "from category_encoders import OrdinalEncoder\n",
    "from sklearn.linear_model import LogisticRegression\n",
    "encoder = OrdinalEncoder(cols=['genres']) "
   ]
  },
  {
   "cell_type": "code",
   "execution_count": 9,
   "metadata": {},
   "outputs": [],
   "source": [
    "edf= encoder.fit_transform(df) "
   ]
  },
  {
   "cell_type": "code",
   "execution_count": 10,
   "metadata": {},
   "outputs": [
    {
     "output_type": "execute_result",
     "data": {
      "text/plain": [
       "      genres  acousticness  danceability   duration_ms    energy  \\\n",
       "0          1      0.494780      0.299333  1.048887e+06  0.450678   \n",
       "1          2      0.679245      0.521473  2.298526e+05  0.401522   \n",
       "2          3      0.621532      0.577017  1.936522e+05  0.345694   \n",
       "3          4      0.359395      0.459500  3.430185e+05  0.487000   \n",
       "4          5      0.353347      0.694400  2.338244e+05  0.613400   \n",
       "...      ...           ...           ...           ...       ...   \n",
       "2659    2660      0.218600      0.560365  2.675453e+05  0.611985   \n",
       "2660    2661      0.124000      0.834000  2.951470e+05  0.674000   \n",
       "2661    2662      0.233181      0.752762  2.951100e+05  0.627238   \n",
       "2662    2663      0.052700      0.776000  2.293330e+05  0.656000   \n",
       "2663    2664      0.347767      0.596992  1.788379e+05  0.603610   \n",
       "\n",
       "      instrumentalness  liveness   loudness  speechiness       tempo  \\\n",
       "0             0.477762  0.131000 -16.854000     0.076817  120.285667   \n",
       "1             0.196737  0.221586 -12.679076     0.112267  112.025168   \n",
       "2             0.003799  0.127087 -12.770211     0.095324  111.813230   \n",
       "3             0.791400  0.119480 -14.092000     0.043420  124.743200   \n",
       "4             0.349403  0.102453  -6.699800     0.143453  119.398400   \n",
       "...                ...       ...        ...          ...         ...   \n",
       "2659          0.152665  0.190792 -11.499268     0.064295  123.283566   \n",
       "2660          0.000000  0.082800 -13.455000     0.072100  119.039000   \n",
       "2661          0.301195  0.083224 -10.864476     0.038110  101.681762   \n",
       "2662          0.565000  0.044500 -14.316000     0.034100   99.981000   \n",
       "2663          0.017112  0.230891  -9.831258     0.050168  129.441970   \n",
       "\n",
       "       valence  popularity  key  mode  \n",
       "0     0.221750   52.166667    5     1  \n",
       "1     0.515920   21.682005    7     1  \n",
       "2     0.453186   43.351819   11     1  \n",
       "3     0.304990   41.500000    1     1  \n",
       "4     0.634187   58.600000   10     0  \n",
       "...        ...         ...  ...   ...  \n",
       "2659  0.596705   33.760410    9     1  \n",
       "2660  0.951000   56.000000    7     0  \n",
       "2661  0.844381   42.476190    4     1  \n",
       "2662  0.966000   24.000000    4     1  \n",
       "2663  0.752643   29.840152    7     1  \n",
       "\n",
       "[2664 rows x 14 columns]"
      ],
      "text/html": "<div>\n<style scoped>\n    .dataframe tbody tr th:only-of-type {\n        vertical-align: middle;\n    }\n\n    .dataframe tbody tr th {\n        vertical-align: top;\n    }\n\n    .dataframe thead th {\n        text-align: right;\n    }\n</style>\n<table border=\"1\" class=\"dataframe\">\n  <thead>\n    <tr style=\"text-align: right;\">\n      <th></th>\n      <th>genres</th>\n      <th>acousticness</th>\n      <th>danceability</th>\n      <th>duration_ms</th>\n      <th>energy</th>\n      <th>instrumentalness</th>\n      <th>liveness</th>\n      <th>loudness</th>\n      <th>speechiness</th>\n      <th>tempo</th>\n      <th>valence</th>\n      <th>popularity</th>\n      <th>key</th>\n      <th>mode</th>\n    </tr>\n  </thead>\n  <tbody>\n    <tr>\n      <th>0</th>\n      <td>1</td>\n      <td>0.494780</td>\n      <td>0.299333</td>\n      <td>1.048887e+06</td>\n      <td>0.450678</td>\n      <td>0.477762</td>\n      <td>0.131000</td>\n      <td>-16.854000</td>\n      <td>0.076817</td>\n      <td>120.285667</td>\n      <td>0.221750</td>\n      <td>52.166667</td>\n      <td>5</td>\n      <td>1</td>\n    </tr>\n    <tr>\n      <th>1</th>\n      <td>2</td>\n      <td>0.679245</td>\n      <td>0.521473</td>\n      <td>2.298526e+05</td>\n      <td>0.401522</td>\n      <td>0.196737</td>\n      <td>0.221586</td>\n      <td>-12.679076</td>\n      <td>0.112267</td>\n      <td>112.025168</td>\n      <td>0.515920</td>\n      <td>21.682005</td>\n      <td>7</td>\n      <td>1</td>\n    </tr>\n    <tr>\n      <th>2</th>\n      <td>3</td>\n      <td>0.621532</td>\n      <td>0.577017</td>\n      <td>1.936522e+05</td>\n      <td>0.345694</td>\n      <td>0.003799</td>\n      <td>0.127087</td>\n      <td>-12.770211</td>\n      <td>0.095324</td>\n      <td>111.813230</td>\n      <td>0.453186</td>\n      <td>43.351819</td>\n      <td>11</td>\n      <td>1</td>\n    </tr>\n    <tr>\n      <th>3</th>\n      <td>4</td>\n      <td>0.359395</td>\n      <td>0.459500</td>\n      <td>3.430185e+05</td>\n      <td>0.487000</td>\n      <td>0.791400</td>\n      <td>0.119480</td>\n      <td>-14.092000</td>\n      <td>0.043420</td>\n      <td>124.743200</td>\n      <td>0.304990</td>\n      <td>41.500000</td>\n      <td>1</td>\n      <td>1</td>\n    </tr>\n    <tr>\n      <th>4</th>\n      <td>5</td>\n      <td>0.353347</td>\n      <td>0.694400</td>\n      <td>2.338244e+05</td>\n      <td>0.613400</td>\n      <td>0.349403</td>\n      <td>0.102453</td>\n      <td>-6.699800</td>\n      <td>0.143453</td>\n      <td>119.398400</td>\n      <td>0.634187</td>\n      <td>58.600000</td>\n      <td>10</td>\n      <td>0</td>\n    </tr>\n    <tr>\n      <th>...</th>\n      <td>...</td>\n      <td>...</td>\n      <td>...</td>\n      <td>...</td>\n      <td>...</td>\n      <td>...</td>\n      <td>...</td>\n      <td>...</td>\n      <td>...</td>\n      <td>...</td>\n      <td>...</td>\n      <td>...</td>\n      <td>...</td>\n      <td>...</td>\n    </tr>\n    <tr>\n      <th>2659</th>\n      <td>2660</td>\n      <td>0.218600</td>\n      <td>0.560365</td>\n      <td>2.675453e+05</td>\n      <td>0.611985</td>\n      <td>0.152665</td>\n      <td>0.190792</td>\n      <td>-11.499268</td>\n      <td>0.064295</td>\n      <td>123.283566</td>\n      <td>0.596705</td>\n      <td>33.760410</td>\n      <td>9</td>\n      <td>1</td>\n    </tr>\n    <tr>\n      <th>2660</th>\n      <td>2661</td>\n      <td>0.124000</td>\n      <td>0.834000</td>\n      <td>2.951470e+05</td>\n      <td>0.674000</td>\n      <td>0.000000</td>\n      <td>0.082800</td>\n      <td>-13.455000</td>\n      <td>0.072100</td>\n      <td>119.039000</td>\n      <td>0.951000</td>\n      <td>56.000000</td>\n      <td>7</td>\n      <td>0</td>\n    </tr>\n    <tr>\n      <th>2661</th>\n      <td>2662</td>\n      <td>0.233181</td>\n      <td>0.752762</td>\n      <td>2.951100e+05</td>\n      <td>0.627238</td>\n      <td>0.301195</td>\n      <td>0.083224</td>\n      <td>-10.864476</td>\n      <td>0.038110</td>\n      <td>101.681762</td>\n      <td>0.844381</td>\n      <td>42.476190</td>\n      <td>4</td>\n      <td>1</td>\n    </tr>\n    <tr>\n      <th>2662</th>\n      <td>2663</td>\n      <td>0.052700</td>\n      <td>0.776000</td>\n      <td>2.293330e+05</td>\n      <td>0.656000</td>\n      <td>0.565000</td>\n      <td>0.044500</td>\n      <td>-14.316000</td>\n      <td>0.034100</td>\n      <td>99.981000</td>\n      <td>0.966000</td>\n      <td>24.000000</td>\n      <td>4</td>\n      <td>1</td>\n    </tr>\n    <tr>\n      <th>2663</th>\n      <td>2664</td>\n      <td>0.347767</td>\n      <td>0.596992</td>\n      <td>1.788379e+05</td>\n      <td>0.603610</td>\n      <td>0.017112</td>\n      <td>0.230891</td>\n      <td>-9.831258</td>\n      <td>0.050168</td>\n      <td>129.441970</td>\n      <td>0.752643</td>\n      <td>29.840152</td>\n      <td>7</td>\n      <td>1</td>\n    </tr>\n  </tbody>\n</table>\n<p>2664 rows × 14 columns</p>\n</div>"
     },
     "metadata": {},
     "execution_count": 10
    }
   ],
   "source": [
    "edf"
   ]
  },
  {
   "cell_type": "code",
   "execution_count": 11,
   "metadata": {},
   "outputs": [],
   "source": [
    "cols = ['acousticness','danceability','duration_ms','energy','instrumentalness','liveness','loudness','speechiness','tempo','valence','popularity','key','mode']"
   ]
  },
  {
   "cell_type": "code",
   "execution_count": 12,
   "metadata": {},
   "outputs": [
    {
     "output_type": "execute_result",
     "data": {
      "text/plain": [
       "        acousticness  danceability  duration_ms  energy  instrumentalness  \\\n",
       "0             0.9950         0.708       158648  0.1950          0.563000   \n",
       "1             0.9940         0.379       282133  0.0135          0.901000   \n",
       "2             0.6040         0.749       104300  0.2200          0.000000   \n",
       "3             0.9950         0.781       180760  0.1300          0.887000   \n",
       "4             0.9900         0.210       687733  0.2040          0.908000   \n",
       "...              ...           ...          ...     ...               ...   \n",
       "169904        0.1730         0.875       163800  0.4430          0.000032   \n",
       "169905        0.0167         0.719       167468  0.3850          0.031300   \n",
       "169906        0.5380         0.514       180700  0.5390          0.002330   \n",
       "169907        0.0714         0.646       167308  0.7610          0.000000   \n",
       "169908        0.1090         0.512       214787  0.4280          0.000000   \n",
       "\n",
       "        key  liveness  loudness  mode  popularity  speechiness    tempo  \\\n",
       "0        10    0.1510   -12.428     1           0       0.0506  118.469   \n",
       "1         8    0.0763   -28.454     1           0       0.0462   83.972   \n",
       "2         5    0.1190   -19.924     0           0       0.9290  107.177   \n",
       "3         1    0.1110   -14.734     0           0       0.0926  108.003   \n",
       "4        11    0.0980   -16.829     1           1       0.0424   62.149   \n",
       "...     ...       ...       ...   ...         ...          ...      ...   \n",
       "169904    1    0.0891    -7.461     1          75       0.1430  100.012   \n",
       "169905    8    0.1110   -10.907     1          64       0.0403  128.000   \n",
       "169906    7    0.1080    -9.332     1          70       0.1050  123.700   \n",
       "169907    1    0.2220    -2.557     1          70       0.0385  129.916   \n",
       "169908    0    0.1050    -7.387     1          65       0.0271   80.588   \n",
       "\n",
       "        valence  \n",
       "0        0.7790  \n",
       "1        0.0767  \n",
       "2        0.8800  \n",
       "3        0.7200  \n",
       "4        0.0693  \n",
       "...         ...  \n",
       "169904   0.3060  \n",
       "169905   0.2700  \n",
       "169906   0.1530  \n",
       "169907   0.4720  \n",
       "169908   0.3660  \n",
       "\n",
       "[169909 rows x 13 columns]"
      ],
      "text/html": "<div>\n<style scoped>\n    .dataframe tbody tr th:only-of-type {\n        vertical-align: middle;\n    }\n\n    .dataframe tbody tr th {\n        vertical-align: top;\n    }\n\n    .dataframe thead th {\n        text-align: right;\n    }\n</style>\n<table border=\"1\" class=\"dataframe\">\n  <thead>\n    <tr style=\"text-align: right;\">\n      <th></th>\n      <th>acousticness</th>\n      <th>danceability</th>\n      <th>duration_ms</th>\n      <th>energy</th>\n      <th>instrumentalness</th>\n      <th>key</th>\n      <th>liveness</th>\n      <th>loudness</th>\n      <th>mode</th>\n      <th>popularity</th>\n      <th>speechiness</th>\n      <th>tempo</th>\n      <th>valence</th>\n    </tr>\n  </thead>\n  <tbody>\n    <tr>\n      <th>0</th>\n      <td>0.9950</td>\n      <td>0.708</td>\n      <td>158648</td>\n      <td>0.1950</td>\n      <td>0.563000</td>\n      <td>10</td>\n      <td>0.1510</td>\n      <td>-12.428</td>\n      <td>1</td>\n      <td>0</td>\n      <td>0.0506</td>\n      <td>118.469</td>\n      <td>0.7790</td>\n    </tr>\n    <tr>\n      <th>1</th>\n      <td>0.9940</td>\n      <td>0.379</td>\n      <td>282133</td>\n      <td>0.0135</td>\n      <td>0.901000</td>\n      <td>8</td>\n      <td>0.0763</td>\n      <td>-28.454</td>\n      <td>1</td>\n      <td>0</td>\n      <td>0.0462</td>\n      <td>83.972</td>\n      <td>0.0767</td>\n    </tr>\n    <tr>\n      <th>2</th>\n      <td>0.6040</td>\n      <td>0.749</td>\n      <td>104300</td>\n      <td>0.2200</td>\n      <td>0.000000</td>\n      <td>5</td>\n      <td>0.1190</td>\n      <td>-19.924</td>\n      <td>0</td>\n      <td>0</td>\n      <td>0.9290</td>\n      <td>107.177</td>\n      <td>0.8800</td>\n    </tr>\n    <tr>\n      <th>3</th>\n      <td>0.9950</td>\n      <td>0.781</td>\n      <td>180760</td>\n      <td>0.1300</td>\n      <td>0.887000</td>\n      <td>1</td>\n      <td>0.1110</td>\n      <td>-14.734</td>\n      <td>0</td>\n      <td>0</td>\n      <td>0.0926</td>\n      <td>108.003</td>\n      <td>0.7200</td>\n    </tr>\n    <tr>\n      <th>4</th>\n      <td>0.9900</td>\n      <td>0.210</td>\n      <td>687733</td>\n      <td>0.2040</td>\n      <td>0.908000</td>\n      <td>11</td>\n      <td>0.0980</td>\n      <td>-16.829</td>\n      <td>1</td>\n      <td>1</td>\n      <td>0.0424</td>\n      <td>62.149</td>\n      <td>0.0693</td>\n    </tr>\n    <tr>\n      <th>...</th>\n      <td>...</td>\n      <td>...</td>\n      <td>...</td>\n      <td>...</td>\n      <td>...</td>\n      <td>...</td>\n      <td>...</td>\n      <td>...</td>\n      <td>...</td>\n      <td>...</td>\n      <td>...</td>\n      <td>...</td>\n      <td>...</td>\n    </tr>\n    <tr>\n      <th>169904</th>\n      <td>0.1730</td>\n      <td>0.875</td>\n      <td>163800</td>\n      <td>0.4430</td>\n      <td>0.000032</td>\n      <td>1</td>\n      <td>0.0891</td>\n      <td>-7.461</td>\n      <td>1</td>\n      <td>75</td>\n      <td>0.1430</td>\n      <td>100.012</td>\n      <td>0.3060</td>\n    </tr>\n    <tr>\n      <th>169905</th>\n      <td>0.0167</td>\n      <td>0.719</td>\n      <td>167468</td>\n      <td>0.3850</td>\n      <td>0.031300</td>\n      <td>8</td>\n      <td>0.1110</td>\n      <td>-10.907</td>\n      <td>1</td>\n      <td>64</td>\n      <td>0.0403</td>\n      <td>128.000</td>\n      <td>0.2700</td>\n    </tr>\n    <tr>\n      <th>169906</th>\n      <td>0.5380</td>\n      <td>0.514</td>\n      <td>180700</td>\n      <td>0.5390</td>\n      <td>0.002330</td>\n      <td>7</td>\n      <td>0.1080</td>\n      <td>-9.332</td>\n      <td>1</td>\n      <td>70</td>\n      <td>0.1050</td>\n      <td>123.700</td>\n      <td>0.1530</td>\n    </tr>\n    <tr>\n      <th>169907</th>\n      <td>0.0714</td>\n      <td>0.646</td>\n      <td>167308</td>\n      <td>0.7610</td>\n      <td>0.000000</td>\n      <td>1</td>\n      <td>0.2220</td>\n      <td>-2.557</td>\n      <td>1</td>\n      <td>70</td>\n      <td>0.0385</td>\n      <td>129.916</td>\n      <td>0.4720</td>\n    </tr>\n    <tr>\n      <th>169908</th>\n      <td>0.1090</td>\n      <td>0.512</td>\n      <td>214787</td>\n      <td>0.4280</td>\n      <td>0.000000</td>\n      <td>0</td>\n      <td>0.1050</td>\n      <td>-7.387</td>\n      <td>1</td>\n      <td>65</td>\n      <td>0.0271</td>\n      <td>80.588</td>\n      <td>0.3660</td>\n    </tr>\n  </tbody>\n</table>\n<p>169909 rows × 13 columns</p>\n</div>"
     },
     "metadata": {},
     "execution_count": 12
    }
   ],
   "source": [
    "df1"
   ]
  },
  {
   "cell_type": "code",
   "execution_count": 13,
   "metadata": {},
   "outputs": [],
   "source": [
    "x = edf.drop(columns='genres')\n",
    "y = edf['genres'].unique()"
   ]
  },
  {
   "cell_type": "code",
   "execution_count": 14,
   "metadata": {},
   "outputs": [
    {
     "output_type": "execute_result",
     "data": {
      "text/plain": [
       "<bound method Series.unique of 0          1\n",
       "1          2\n",
       "2          3\n",
       "3          4\n",
       "4          5\n",
       "        ... \n",
       "2659    2660\n",
       "2660    2661\n",
       "2661    2662\n",
       "2662    2663\n",
       "2663    2664\n",
       "Name: genres, Length: 2664, dtype: int32>"
      ]
     },
     "metadata": {},
     "execution_count": 14
    }
   ],
   "source": [
    "edf['genres'].unique"
   ]
  },
  {
   "cell_type": "code",
   "execution_count": 15,
   "metadata": {},
   "outputs": [
    {
     "output_type": "stream",
     "name": "stdout",
     "text": [
      "[ 471  254 1149 ...  183  517  237]\n"
     ]
    }
   ],
   "source": [
    "from sklearn.neighbors import KNeighborsClassifier\n",
    "neigh = KNeighborsClassifier(n_neighbors=3)\n",
    "neigh.fit(x, y)\n",
    "print(neigh.predict(df1))"
   ]
  },
  {
   "cell_type": "code",
   "execution_count": 16,
   "metadata": {},
   "outputs": [],
   "source": [
    "df1['genres'] = neigh.predict(df1)"
   ]
  },
  {
   "cell_type": "code",
   "execution_count": 17,
   "metadata": {},
   "outputs": [
    {
     "output_type": "execute_result",
     "data": {
      "text/plain": [
       "        acousticness  danceability  duration_ms  energy  instrumentalness  \\\n",
       "0             0.9950         0.708       158648  0.1950          0.563000   \n",
       "1             0.9940         0.379       282133  0.0135          0.901000   \n",
       "2             0.6040         0.749       104300  0.2200          0.000000   \n",
       "3             0.9950         0.781       180760  0.1300          0.887000   \n",
       "4             0.9900         0.210       687733  0.2040          0.908000   \n",
       "...              ...           ...          ...     ...               ...   \n",
       "169904        0.1730         0.875       163800  0.4430          0.000032   \n",
       "169905        0.0167         0.719       167468  0.3850          0.031300   \n",
       "169906        0.5380         0.514       180700  0.5390          0.002330   \n",
       "169907        0.0714         0.646       167308  0.7610          0.000000   \n",
       "169908        0.1090         0.512       214787  0.4280          0.000000   \n",
       "\n",
       "        key  liveness  loudness  mode  popularity  speechiness    tempo  \\\n",
       "0        10    0.1510   -12.428     1           0       0.0506  118.469   \n",
       "1         8    0.0763   -28.454     1           0       0.0462   83.972   \n",
       "2         5    0.1190   -19.924     0           0       0.9290  107.177   \n",
       "3         1    0.1110   -14.734     0           0       0.0926  108.003   \n",
       "4        11    0.0980   -16.829     1           1       0.0424   62.149   \n",
       "...     ...       ...       ...   ...         ...          ...      ...   \n",
       "169904    1    0.0891    -7.461     1          75       0.1430  100.012   \n",
       "169905    8    0.1110   -10.907     1          64       0.0403  128.000   \n",
       "169906    7    0.1080    -9.332     1          70       0.1050  123.700   \n",
       "169907    1    0.2220    -2.557     1          70       0.0385  129.916   \n",
       "169908    0    0.1050    -7.387     1          65       0.0271   80.588   \n",
       "\n",
       "        valence  genres  \n",
       "0        0.7790     471  \n",
       "1        0.0767     254  \n",
       "2        0.8800    1149  \n",
       "3        0.7200      13  \n",
       "4        0.0693     394  \n",
       "...         ...     ...  \n",
       "169904   0.3060      98  \n",
       "169905   0.2700      40  \n",
       "169906   0.1530     183  \n",
       "169907   0.4720     517  \n",
       "169908   0.3660     237  \n",
       "\n",
       "[169909 rows x 14 columns]"
      ],
      "text/html": "<div>\n<style scoped>\n    .dataframe tbody tr th:only-of-type {\n        vertical-align: middle;\n    }\n\n    .dataframe tbody tr th {\n        vertical-align: top;\n    }\n\n    .dataframe thead th {\n        text-align: right;\n    }\n</style>\n<table border=\"1\" class=\"dataframe\">\n  <thead>\n    <tr style=\"text-align: right;\">\n      <th></th>\n      <th>acousticness</th>\n      <th>danceability</th>\n      <th>duration_ms</th>\n      <th>energy</th>\n      <th>instrumentalness</th>\n      <th>key</th>\n      <th>liveness</th>\n      <th>loudness</th>\n      <th>mode</th>\n      <th>popularity</th>\n      <th>speechiness</th>\n      <th>tempo</th>\n      <th>valence</th>\n      <th>genres</th>\n    </tr>\n  </thead>\n  <tbody>\n    <tr>\n      <th>0</th>\n      <td>0.9950</td>\n      <td>0.708</td>\n      <td>158648</td>\n      <td>0.1950</td>\n      <td>0.563000</td>\n      <td>10</td>\n      <td>0.1510</td>\n      <td>-12.428</td>\n      <td>1</td>\n      <td>0</td>\n      <td>0.0506</td>\n      <td>118.469</td>\n      <td>0.7790</td>\n      <td>471</td>\n    </tr>\n    <tr>\n      <th>1</th>\n      <td>0.9940</td>\n      <td>0.379</td>\n      <td>282133</td>\n      <td>0.0135</td>\n      <td>0.901000</td>\n      <td>8</td>\n      <td>0.0763</td>\n      <td>-28.454</td>\n      <td>1</td>\n      <td>0</td>\n      <td>0.0462</td>\n      <td>83.972</td>\n      <td>0.0767</td>\n      <td>254</td>\n    </tr>\n    <tr>\n      <th>2</th>\n      <td>0.6040</td>\n      <td>0.749</td>\n      <td>104300</td>\n      <td>0.2200</td>\n      <td>0.000000</td>\n      <td>5</td>\n      <td>0.1190</td>\n      <td>-19.924</td>\n      <td>0</td>\n      <td>0</td>\n      <td>0.9290</td>\n      <td>107.177</td>\n      <td>0.8800</td>\n      <td>1149</td>\n    </tr>\n    <tr>\n      <th>3</th>\n      <td>0.9950</td>\n      <td>0.781</td>\n      <td>180760</td>\n      <td>0.1300</td>\n      <td>0.887000</td>\n      <td>1</td>\n      <td>0.1110</td>\n      <td>-14.734</td>\n      <td>0</td>\n      <td>0</td>\n      <td>0.0926</td>\n      <td>108.003</td>\n      <td>0.7200</td>\n      <td>13</td>\n    </tr>\n    <tr>\n      <th>4</th>\n      <td>0.9900</td>\n      <td>0.210</td>\n      <td>687733</td>\n      <td>0.2040</td>\n      <td>0.908000</td>\n      <td>11</td>\n      <td>0.0980</td>\n      <td>-16.829</td>\n      <td>1</td>\n      <td>1</td>\n      <td>0.0424</td>\n      <td>62.149</td>\n      <td>0.0693</td>\n      <td>394</td>\n    </tr>\n    <tr>\n      <th>...</th>\n      <td>...</td>\n      <td>...</td>\n      <td>...</td>\n      <td>...</td>\n      <td>...</td>\n      <td>...</td>\n      <td>...</td>\n      <td>...</td>\n      <td>...</td>\n      <td>...</td>\n      <td>...</td>\n      <td>...</td>\n      <td>...</td>\n      <td>...</td>\n    </tr>\n    <tr>\n      <th>169904</th>\n      <td>0.1730</td>\n      <td>0.875</td>\n      <td>163800</td>\n      <td>0.4430</td>\n      <td>0.000032</td>\n      <td>1</td>\n      <td>0.0891</td>\n      <td>-7.461</td>\n      <td>1</td>\n      <td>75</td>\n      <td>0.1430</td>\n      <td>100.012</td>\n      <td>0.3060</td>\n      <td>98</td>\n    </tr>\n    <tr>\n      <th>169905</th>\n      <td>0.0167</td>\n      <td>0.719</td>\n      <td>167468</td>\n      <td>0.3850</td>\n      <td>0.031300</td>\n      <td>8</td>\n      <td>0.1110</td>\n      <td>-10.907</td>\n      <td>1</td>\n      <td>64</td>\n      <td>0.0403</td>\n      <td>128.000</td>\n      <td>0.2700</td>\n      <td>40</td>\n    </tr>\n    <tr>\n      <th>169906</th>\n      <td>0.5380</td>\n      <td>0.514</td>\n      <td>180700</td>\n      <td>0.5390</td>\n      <td>0.002330</td>\n      <td>7</td>\n      <td>0.1080</td>\n      <td>-9.332</td>\n      <td>1</td>\n      <td>70</td>\n      <td>0.1050</td>\n      <td>123.700</td>\n      <td>0.1530</td>\n      <td>183</td>\n    </tr>\n    <tr>\n      <th>169907</th>\n      <td>0.0714</td>\n      <td>0.646</td>\n      <td>167308</td>\n      <td>0.7610</td>\n      <td>0.000000</td>\n      <td>1</td>\n      <td>0.2220</td>\n      <td>-2.557</td>\n      <td>1</td>\n      <td>70</td>\n      <td>0.0385</td>\n      <td>129.916</td>\n      <td>0.4720</td>\n      <td>517</td>\n    </tr>\n    <tr>\n      <th>169908</th>\n      <td>0.1090</td>\n      <td>0.512</td>\n      <td>214787</td>\n      <td>0.4280</td>\n      <td>0.000000</td>\n      <td>0</td>\n      <td>0.1050</td>\n      <td>-7.387</td>\n      <td>1</td>\n      <td>65</td>\n      <td>0.0271</td>\n      <td>80.588</td>\n      <td>0.3660</td>\n      <td>237</td>\n    </tr>\n  </tbody>\n</table>\n<p>169909 rows × 14 columns</p>\n</div>"
     },
     "metadata": {},
     "execution_count": 17
    }
   ],
   "source": [
    "df1"
   ]
  },
  {
   "cell_type": "code",
   "execution_count": 18,
   "metadata": {},
   "outputs": [],
   "source": [
    "df1['numeric']=df1['genres']"
   ]
  },
  {
   "cell_type": "code",
   "execution_count": 19,
   "metadata": {},
   "outputs": [
    {
     "output_type": "execute_result",
     "data": {
      "text/plain": [
       "        acousticness  danceability  duration_ms  energy  instrumentalness  \\\n",
       "0             0.9950         0.708       158648  0.1950          0.563000   \n",
       "1             0.9940         0.379       282133  0.0135          0.901000   \n",
       "2             0.6040         0.749       104300  0.2200          0.000000   \n",
       "3             0.9950         0.781       180760  0.1300          0.887000   \n",
       "4             0.9900         0.210       687733  0.2040          0.908000   \n",
       "...              ...           ...          ...     ...               ...   \n",
       "169904        0.1730         0.875       163800  0.4430          0.000032   \n",
       "169905        0.0167         0.719       167468  0.3850          0.031300   \n",
       "169906        0.5380         0.514       180700  0.5390          0.002330   \n",
       "169907        0.0714         0.646       167308  0.7610          0.000000   \n",
       "169908        0.1090         0.512       214787  0.4280          0.000000   \n",
       "\n",
       "        key  liveness  loudness  mode  popularity  speechiness    tempo  \\\n",
       "0        10    0.1510   -12.428     1           0       0.0506  118.469   \n",
       "1         8    0.0763   -28.454     1           0       0.0462   83.972   \n",
       "2         5    0.1190   -19.924     0           0       0.9290  107.177   \n",
       "3         1    0.1110   -14.734     0           0       0.0926  108.003   \n",
       "4        11    0.0980   -16.829     1           1       0.0424   62.149   \n",
       "...     ...       ...       ...   ...         ...          ...      ...   \n",
       "169904    1    0.0891    -7.461     1          75       0.1430  100.012   \n",
       "169905    8    0.1110   -10.907     1          64       0.0403  128.000   \n",
       "169906    7    0.1080    -9.332     1          70       0.1050  123.700   \n",
       "169907    1    0.2220    -2.557     1          70       0.0385  129.916   \n",
       "169908    0    0.1050    -7.387     1          65       0.0271   80.588   \n",
       "\n",
       "        valence  numeric  \n",
       "0        0.7790      471  \n",
       "1        0.0767      254  \n",
       "2        0.8800     1149  \n",
       "3        0.7200       13  \n",
       "4        0.0693      394  \n",
       "...         ...      ...  \n",
       "169904   0.3060       98  \n",
       "169905   0.2700       40  \n",
       "169906   0.1530      183  \n",
       "169907   0.4720      517  \n",
       "169908   0.3660      237  \n",
       "\n",
       "[169909 rows x 14 columns]"
      ],
      "text/html": "<div>\n<style scoped>\n    .dataframe tbody tr th:only-of-type {\n        vertical-align: middle;\n    }\n\n    .dataframe tbody tr th {\n        vertical-align: top;\n    }\n\n    .dataframe thead th {\n        text-align: right;\n    }\n</style>\n<table border=\"1\" class=\"dataframe\">\n  <thead>\n    <tr style=\"text-align: right;\">\n      <th></th>\n      <th>acousticness</th>\n      <th>danceability</th>\n      <th>duration_ms</th>\n      <th>energy</th>\n      <th>instrumentalness</th>\n      <th>key</th>\n      <th>liveness</th>\n      <th>loudness</th>\n      <th>mode</th>\n      <th>popularity</th>\n      <th>speechiness</th>\n      <th>tempo</th>\n      <th>valence</th>\n      <th>numeric</th>\n    </tr>\n  </thead>\n  <tbody>\n    <tr>\n      <th>0</th>\n      <td>0.9950</td>\n      <td>0.708</td>\n      <td>158648</td>\n      <td>0.1950</td>\n      <td>0.563000</td>\n      <td>10</td>\n      <td>0.1510</td>\n      <td>-12.428</td>\n      <td>1</td>\n      <td>0</td>\n      <td>0.0506</td>\n      <td>118.469</td>\n      <td>0.7790</td>\n      <td>471</td>\n    </tr>\n    <tr>\n      <th>1</th>\n      <td>0.9940</td>\n      <td>0.379</td>\n      <td>282133</td>\n      <td>0.0135</td>\n      <td>0.901000</td>\n      <td>8</td>\n      <td>0.0763</td>\n      <td>-28.454</td>\n      <td>1</td>\n      <td>0</td>\n      <td>0.0462</td>\n      <td>83.972</td>\n      <td>0.0767</td>\n      <td>254</td>\n    </tr>\n    <tr>\n      <th>2</th>\n      <td>0.6040</td>\n      <td>0.749</td>\n      <td>104300</td>\n      <td>0.2200</td>\n      <td>0.000000</td>\n      <td>5</td>\n      <td>0.1190</td>\n      <td>-19.924</td>\n      <td>0</td>\n      <td>0</td>\n      <td>0.9290</td>\n      <td>107.177</td>\n      <td>0.8800</td>\n      <td>1149</td>\n    </tr>\n    <tr>\n      <th>3</th>\n      <td>0.9950</td>\n      <td>0.781</td>\n      <td>180760</td>\n      <td>0.1300</td>\n      <td>0.887000</td>\n      <td>1</td>\n      <td>0.1110</td>\n      <td>-14.734</td>\n      <td>0</td>\n      <td>0</td>\n      <td>0.0926</td>\n      <td>108.003</td>\n      <td>0.7200</td>\n      <td>13</td>\n    </tr>\n    <tr>\n      <th>4</th>\n      <td>0.9900</td>\n      <td>0.210</td>\n      <td>687733</td>\n      <td>0.2040</td>\n      <td>0.908000</td>\n      <td>11</td>\n      <td>0.0980</td>\n      <td>-16.829</td>\n      <td>1</td>\n      <td>1</td>\n      <td>0.0424</td>\n      <td>62.149</td>\n      <td>0.0693</td>\n      <td>394</td>\n    </tr>\n    <tr>\n      <th>...</th>\n      <td>...</td>\n      <td>...</td>\n      <td>...</td>\n      <td>...</td>\n      <td>...</td>\n      <td>...</td>\n      <td>...</td>\n      <td>...</td>\n      <td>...</td>\n      <td>...</td>\n      <td>...</td>\n      <td>...</td>\n      <td>...</td>\n      <td>...</td>\n    </tr>\n    <tr>\n      <th>169904</th>\n      <td>0.1730</td>\n      <td>0.875</td>\n      <td>163800</td>\n      <td>0.4430</td>\n      <td>0.000032</td>\n      <td>1</td>\n      <td>0.0891</td>\n      <td>-7.461</td>\n      <td>1</td>\n      <td>75</td>\n      <td>0.1430</td>\n      <td>100.012</td>\n      <td>0.3060</td>\n      <td>98</td>\n    </tr>\n    <tr>\n      <th>169905</th>\n      <td>0.0167</td>\n      <td>0.719</td>\n      <td>167468</td>\n      <td>0.3850</td>\n      <td>0.031300</td>\n      <td>8</td>\n      <td>0.1110</td>\n      <td>-10.907</td>\n      <td>1</td>\n      <td>64</td>\n      <td>0.0403</td>\n      <td>128.000</td>\n      <td>0.2700</td>\n      <td>40</td>\n    </tr>\n    <tr>\n      <th>169906</th>\n      <td>0.5380</td>\n      <td>0.514</td>\n      <td>180700</td>\n      <td>0.5390</td>\n      <td>0.002330</td>\n      <td>7</td>\n      <td>0.1080</td>\n      <td>-9.332</td>\n      <td>1</td>\n      <td>70</td>\n      <td>0.1050</td>\n      <td>123.700</td>\n      <td>0.1530</td>\n      <td>183</td>\n    </tr>\n    <tr>\n      <th>169907</th>\n      <td>0.0714</td>\n      <td>0.646</td>\n      <td>167308</td>\n      <td>0.7610</td>\n      <td>0.000000</td>\n      <td>1</td>\n      <td>0.2220</td>\n      <td>-2.557</td>\n      <td>1</td>\n      <td>70</td>\n      <td>0.0385</td>\n      <td>129.916</td>\n      <td>0.4720</td>\n      <td>517</td>\n    </tr>\n    <tr>\n      <th>169908</th>\n      <td>0.1090</td>\n      <td>0.512</td>\n      <td>214787</td>\n      <td>0.4280</td>\n      <td>0.000000</td>\n      <td>0</td>\n      <td>0.1050</td>\n      <td>-7.387</td>\n      <td>1</td>\n      <td>65</td>\n      <td>0.0271</td>\n      <td>80.588</td>\n      <td>0.3660</td>\n      <td>237</td>\n    </tr>\n  </tbody>\n</table>\n<p>169909 rows × 14 columns</p>\n</div>"
     },
     "metadata": {},
     "execution_count": 19
    }
   ],
   "source": [
    "df1.drop(columns='genres')"
   ]
  },
  {
   "cell_type": "code",
   "execution_count": 20,
   "metadata": {},
   "outputs": [],
   "source": [
    "df1['artists'] = basic['artists']"
   ]
  },
  {
   "cell_type": "code",
   "execution_count": 21,
   "metadata": {},
   "outputs": [],
   "source": [
    "df1['song_name'] = basic['name']"
   ]
  },
  {
   "cell_type": "code",
   "execution_count": 22,
   "metadata": {},
   "outputs": [
    {
     "output_type": "execute_result",
     "data": {
      "text/plain": [
       "        acousticness  danceability  duration_ms  energy  instrumentalness  \\\n",
       "0             0.9950         0.708       158648  0.1950          0.563000   \n",
       "1             0.9940         0.379       282133  0.0135          0.901000   \n",
       "2             0.6040         0.749       104300  0.2200          0.000000   \n",
       "3             0.9950         0.781       180760  0.1300          0.887000   \n",
       "4             0.9900         0.210       687733  0.2040          0.908000   \n",
       "...              ...           ...          ...     ...               ...   \n",
       "169904        0.1730         0.875       163800  0.4430          0.000032   \n",
       "169905        0.0167         0.719       167468  0.3850          0.031300   \n",
       "169906        0.5380         0.514       180700  0.5390          0.002330   \n",
       "169907        0.0714         0.646       167308  0.7610          0.000000   \n",
       "169908        0.1090         0.512       214787  0.4280          0.000000   \n",
       "\n",
       "        key  liveness  loudness  mode  popularity  speechiness    tempo  \\\n",
       "0        10    0.1510   -12.428     1           0       0.0506  118.469   \n",
       "1         8    0.0763   -28.454     1           0       0.0462   83.972   \n",
       "2         5    0.1190   -19.924     0           0       0.9290  107.177   \n",
       "3         1    0.1110   -14.734     0           0       0.0926  108.003   \n",
       "4        11    0.0980   -16.829     1           1       0.0424   62.149   \n",
       "...     ...       ...       ...   ...         ...          ...      ...   \n",
       "169904    1    0.0891    -7.461     1          75       0.1430  100.012   \n",
       "169905    8    0.1110   -10.907     1          64       0.0403  128.000   \n",
       "169906    7    0.1080    -9.332     1          70       0.1050  123.700   \n",
       "169907    1    0.2220    -2.557     1          70       0.0385  129.916   \n",
       "169908    0    0.1050    -7.387     1          65       0.0271   80.588   \n",
       "\n",
       "        valence  genres  numeric                                   artists  \\\n",
       "0        0.7790     471      471                       ['Carl Woitschach']   \n",
       "1        0.0767     254      254  ['Robert Schumann', 'Vladimir Horowitz']   \n",
       "2        0.8800    1149     1149                   ['Seweryn Goszczyński']   \n",
       "3        0.7200      13       13                      ['Francisco Canaro']   \n",
       "4        0.0693     394      394  ['Frédéric Chopin', 'Vladimir Horowitz']   \n",
       "...         ...     ...      ...                                       ...   \n",
       "169904   0.3060      98       98                    ['DripReport', 'Tyga']   \n",
       "169905   0.2700      40       40        ['Leon Bridges', 'Terrace Martin']   \n",
       "169906   0.1530     183      183                     ['Kygo', 'Oh Wonder']   \n",
       "169907   0.4720     517      517             ['Cash Cash', 'Andy Grammer']   \n",
       "169908   0.3660     237      237                        ['Ingrid Andress']   \n",
       "\n",
       "                                            song_name  \n",
       "0                         Singende Bataillone 1. Teil  \n",
       "1            Fantasiestücke, Op. 111: Più tosto lento  \n",
       "2                      Chapter 1.18 - Zamek kaniowski  \n",
       "3       Bebamos Juntos - Instrumental (Remasterizado)  \n",
       "4         Polonaise-Fantaisie in A-Flat Major, Op. 61  \n",
       "...                                               ...  \n",
       "169904                  Skechers (feat. Tyga) - Remix  \n",
       "169905                 Sweeter (feat. Terrace Martin)  \n",
       "169906                               How Would I Know  \n",
       "169907                                    I Found You  \n",
       "169908                          More Hearts Than Mine  \n",
       "\n",
       "[169909 rows x 17 columns]"
      ],
      "text/html": "<div>\n<style scoped>\n    .dataframe tbody tr th:only-of-type {\n        vertical-align: middle;\n    }\n\n    .dataframe tbody tr th {\n        vertical-align: top;\n    }\n\n    .dataframe thead th {\n        text-align: right;\n    }\n</style>\n<table border=\"1\" class=\"dataframe\">\n  <thead>\n    <tr style=\"text-align: right;\">\n      <th></th>\n      <th>acousticness</th>\n      <th>danceability</th>\n      <th>duration_ms</th>\n      <th>energy</th>\n      <th>instrumentalness</th>\n      <th>key</th>\n      <th>liveness</th>\n      <th>loudness</th>\n      <th>mode</th>\n      <th>popularity</th>\n      <th>speechiness</th>\n      <th>tempo</th>\n      <th>valence</th>\n      <th>genres</th>\n      <th>numeric</th>\n      <th>artists</th>\n      <th>song_name</th>\n    </tr>\n  </thead>\n  <tbody>\n    <tr>\n      <th>0</th>\n      <td>0.9950</td>\n      <td>0.708</td>\n      <td>158648</td>\n      <td>0.1950</td>\n      <td>0.563000</td>\n      <td>10</td>\n      <td>0.1510</td>\n      <td>-12.428</td>\n      <td>1</td>\n      <td>0</td>\n      <td>0.0506</td>\n      <td>118.469</td>\n      <td>0.7790</td>\n      <td>471</td>\n      <td>471</td>\n      <td>['Carl Woitschach']</td>\n      <td>Singende Bataillone 1. Teil</td>\n    </tr>\n    <tr>\n      <th>1</th>\n      <td>0.9940</td>\n      <td>0.379</td>\n      <td>282133</td>\n      <td>0.0135</td>\n      <td>0.901000</td>\n      <td>8</td>\n      <td>0.0763</td>\n      <td>-28.454</td>\n      <td>1</td>\n      <td>0</td>\n      <td>0.0462</td>\n      <td>83.972</td>\n      <td>0.0767</td>\n      <td>254</td>\n      <td>254</td>\n      <td>['Robert Schumann', 'Vladimir Horowitz']</td>\n      <td>Fantasiestücke, Op. 111: Più tosto lento</td>\n    </tr>\n    <tr>\n      <th>2</th>\n      <td>0.6040</td>\n      <td>0.749</td>\n      <td>104300</td>\n      <td>0.2200</td>\n      <td>0.000000</td>\n      <td>5</td>\n      <td>0.1190</td>\n      <td>-19.924</td>\n      <td>0</td>\n      <td>0</td>\n      <td>0.9290</td>\n      <td>107.177</td>\n      <td>0.8800</td>\n      <td>1149</td>\n      <td>1149</td>\n      <td>['Seweryn Goszczyński']</td>\n      <td>Chapter 1.18 - Zamek kaniowski</td>\n    </tr>\n    <tr>\n      <th>3</th>\n      <td>0.9950</td>\n      <td>0.781</td>\n      <td>180760</td>\n      <td>0.1300</td>\n      <td>0.887000</td>\n      <td>1</td>\n      <td>0.1110</td>\n      <td>-14.734</td>\n      <td>0</td>\n      <td>0</td>\n      <td>0.0926</td>\n      <td>108.003</td>\n      <td>0.7200</td>\n      <td>13</td>\n      <td>13</td>\n      <td>['Francisco Canaro']</td>\n      <td>Bebamos Juntos - Instrumental (Remasterizado)</td>\n    </tr>\n    <tr>\n      <th>4</th>\n      <td>0.9900</td>\n      <td>0.210</td>\n      <td>687733</td>\n      <td>0.2040</td>\n      <td>0.908000</td>\n      <td>11</td>\n      <td>0.0980</td>\n      <td>-16.829</td>\n      <td>1</td>\n      <td>1</td>\n      <td>0.0424</td>\n      <td>62.149</td>\n      <td>0.0693</td>\n      <td>394</td>\n      <td>394</td>\n      <td>['Frédéric Chopin', 'Vladimir Horowitz']</td>\n      <td>Polonaise-Fantaisie in A-Flat Major, Op. 61</td>\n    </tr>\n    <tr>\n      <th>...</th>\n      <td>...</td>\n      <td>...</td>\n      <td>...</td>\n      <td>...</td>\n      <td>...</td>\n      <td>...</td>\n      <td>...</td>\n      <td>...</td>\n      <td>...</td>\n      <td>...</td>\n      <td>...</td>\n      <td>...</td>\n      <td>...</td>\n      <td>...</td>\n      <td>...</td>\n      <td>...</td>\n      <td>...</td>\n    </tr>\n    <tr>\n      <th>169904</th>\n      <td>0.1730</td>\n      <td>0.875</td>\n      <td>163800</td>\n      <td>0.4430</td>\n      <td>0.000032</td>\n      <td>1</td>\n      <td>0.0891</td>\n      <td>-7.461</td>\n      <td>1</td>\n      <td>75</td>\n      <td>0.1430</td>\n      <td>100.012</td>\n      <td>0.3060</td>\n      <td>98</td>\n      <td>98</td>\n      <td>['DripReport', 'Tyga']</td>\n      <td>Skechers (feat. Tyga) - Remix</td>\n    </tr>\n    <tr>\n      <th>169905</th>\n      <td>0.0167</td>\n      <td>0.719</td>\n      <td>167468</td>\n      <td>0.3850</td>\n      <td>0.031300</td>\n      <td>8</td>\n      <td>0.1110</td>\n      <td>-10.907</td>\n      <td>1</td>\n      <td>64</td>\n      <td>0.0403</td>\n      <td>128.000</td>\n      <td>0.2700</td>\n      <td>40</td>\n      <td>40</td>\n      <td>['Leon Bridges', 'Terrace Martin']</td>\n      <td>Sweeter (feat. Terrace Martin)</td>\n    </tr>\n    <tr>\n      <th>169906</th>\n      <td>0.5380</td>\n      <td>0.514</td>\n      <td>180700</td>\n      <td>0.5390</td>\n      <td>0.002330</td>\n      <td>7</td>\n      <td>0.1080</td>\n      <td>-9.332</td>\n      <td>1</td>\n      <td>70</td>\n      <td>0.1050</td>\n      <td>123.700</td>\n      <td>0.1530</td>\n      <td>183</td>\n      <td>183</td>\n      <td>['Kygo', 'Oh Wonder']</td>\n      <td>How Would I Know</td>\n    </tr>\n    <tr>\n      <th>169907</th>\n      <td>0.0714</td>\n      <td>0.646</td>\n      <td>167308</td>\n      <td>0.7610</td>\n      <td>0.000000</td>\n      <td>1</td>\n      <td>0.2220</td>\n      <td>-2.557</td>\n      <td>1</td>\n      <td>70</td>\n      <td>0.0385</td>\n      <td>129.916</td>\n      <td>0.4720</td>\n      <td>517</td>\n      <td>517</td>\n      <td>['Cash Cash', 'Andy Grammer']</td>\n      <td>I Found You</td>\n    </tr>\n    <tr>\n      <th>169908</th>\n      <td>0.1090</td>\n      <td>0.512</td>\n      <td>214787</td>\n      <td>0.4280</td>\n      <td>0.000000</td>\n      <td>0</td>\n      <td>0.1050</td>\n      <td>-7.387</td>\n      <td>1</td>\n      <td>65</td>\n      <td>0.0271</td>\n      <td>80.588</td>\n      <td>0.3660</td>\n      <td>237</td>\n      <td>237</td>\n      <td>['Ingrid Andress']</td>\n      <td>More Hearts Than Mine</td>\n    </tr>\n  </tbody>\n</table>\n<p>169909 rows × 17 columns</p>\n</div>"
     },
     "metadata": {},
     "execution_count": 22
    }
   ],
   "source": [
    "df1"
   ]
  },
  {
   "cell_type": "code",
   "execution_count": 23,
   "metadata": {},
   "outputs": [],
   "source": [
    "compgen = pd.DataFrame(columns=['numeric','genres'])"
   ]
  },
  {
   "cell_type": "code",
   "execution_count": 24,
   "metadata": {},
   "outputs": [],
   "source": [
    "compgen['numeric'] = edf['genres']"
   ]
  },
  {
   "cell_type": "code",
   "execution_count": 25,
   "metadata": {},
   "outputs": [],
   "source": [
    "compgen['genres'] = df['genres']"
   ]
  },
  {
   "cell_type": "code",
   "execution_count": 26,
   "metadata": {},
   "outputs": [
    {
     "output_type": "execute_result",
     "data": {
      "text/plain": [
       "      numeric          genres\n",
       "0           1           432hz\n",
       "1           2              []\n",
       "2           3      a cappella\n",
       "3           4        abstract\n",
       "4           5  abstract beats\n",
       "...       ...             ...\n",
       "2659     2660            zolo\n",
       "2660     2661         zouglou\n",
       "2661     2662            zouk\n",
       "2662     2663     zouk riddim\n",
       "2663     2664          zydeco\n",
       "\n",
       "[2664 rows x 2 columns]"
      ],
      "text/html": "<div>\n<style scoped>\n    .dataframe tbody tr th:only-of-type {\n        vertical-align: middle;\n    }\n\n    .dataframe tbody tr th {\n        vertical-align: top;\n    }\n\n    .dataframe thead th {\n        text-align: right;\n    }\n</style>\n<table border=\"1\" class=\"dataframe\">\n  <thead>\n    <tr style=\"text-align: right;\">\n      <th></th>\n      <th>numeric</th>\n      <th>genres</th>\n    </tr>\n  </thead>\n  <tbody>\n    <tr>\n      <th>0</th>\n      <td>1</td>\n      <td>432hz</td>\n    </tr>\n    <tr>\n      <th>1</th>\n      <td>2</td>\n      <td>[]</td>\n    </tr>\n    <tr>\n      <th>2</th>\n      <td>3</td>\n      <td>a cappella</td>\n    </tr>\n    <tr>\n      <th>3</th>\n      <td>4</td>\n      <td>abstract</td>\n    </tr>\n    <tr>\n      <th>4</th>\n      <td>5</td>\n      <td>abstract beats</td>\n    </tr>\n    <tr>\n      <th>...</th>\n      <td>...</td>\n      <td>...</td>\n    </tr>\n    <tr>\n      <th>2659</th>\n      <td>2660</td>\n      <td>zolo</td>\n    </tr>\n    <tr>\n      <th>2660</th>\n      <td>2661</td>\n      <td>zouglou</td>\n    </tr>\n    <tr>\n      <th>2661</th>\n      <td>2662</td>\n      <td>zouk</td>\n    </tr>\n    <tr>\n      <th>2662</th>\n      <td>2663</td>\n      <td>zouk riddim</td>\n    </tr>\n    <tr>\n      <th>2663</th>\n      <td>2664</td>\n      <td>zydeco</td>\n    </tr>\n  </tbody>\n</table>\n<p>2664 rows × 2 columns</p>\n</div>"
     },
     "metadata": {},
     "execution_count": 26
    }
   ],
   "source": [
    "compgen"
   ]
  },
  {
   "cell_type": "code",
   "execution_count": 27,
   "metadata": {},
   "outputs": [],
   "source": [
    "test = df1.merge(compgen, on='numeric')"
   ]
  },
  {
   "cell_type": "code",
   "execution_count": 28,
   "metadata": {},
   "outputs": [
    {
     "output_type": "execute_result",
     "data": {
      "text/plain": [
       "        acousticness  danceability  duration_ms  energy  instrumentalness  \\\n",
       "0            0.99500         0.708       158648   0.195          0.563000   \n",
       "1            0.99500         0.628       158840   0.153          0.035200   \n",
       "2            0.97500         0.651       158693   0.205          0.887000   \n",
       "3            0.99200         0.380       158507   0.318          0.093800   \n",
       "4            0.98300         0.507       158773   0.235          0.000258   \n",
       "...              ...           ...          ...     ...               ...   \n",
       "169904       0.93200         0.666       467010   0.571          0.000000   \n",
       "169905       0.00858         0.403       467053   0.557          0.000000   \n",
       "169906       0.84600         0.616       467013   0.420          0.030000   \n",
       "169907       0.81800         0.442       466933   0.266          0.000000   \n",
       "169908       0.11600         0.908       203520   0.573          0.000547   \n",
       "\n",
       "        key  liveness  loudness  mode  popularity  speechiness    tempo  \\\n",
       "0        10    0.1510   -12.428     1           0       0.0506  118.469   \n",
       "1         5    0.2530   -14.279     1           2       0.0413  116.931   \n",
       "2         8    0.1600   -19.530     1           0       0.2560  113.197   \n",
       "3         0    0.1420   -12.737     1           0       0.0383   67.697   \n",
       "4         7    0.2640   -15.623     1           0       0.0621   82.843   \n",
       "...     ...       ...       ...   ...         ...          ...      ...   \n",
       "169904   11    0.9550    -9.749     0           0       0.8980  132.483   \n",
       "169905    1    0.7200    -6.018     1          62       0.0314   73.998   \n",
       "169906    5    0.1370   -11.155     1           6       0.0331   99.848   \n",
       "169907    4    0.8870   -12.806     1          27       0.0347  159.045   \n",
       "169908    1    0.0926    -4.807     1          59       0.0871   98.137   \n",
       "\n",
       "        valence  genres_x  numeric  \\\n",
       "0         0.779       471      471   \n",
       "1         0.712       471      471   \n",
       "2         0.531       471      471   \n",
       "3         0.705       471      471   \n",
       "4         0.438       471      471   \n",
       "...         ...       ...      ...   \n",
       "169904    0.447       383      383   \n",
       "169905    0.203       383      383   \n",
       "169906    0.736       383      383   \n",
       "169907    0.186       383      383   \n",
       "169908    0.723      1272     1272   \n",
       "\n",
       "                                                  artists  \\\n",
       "0                                     ['Carl Woitschach']   \n",
       "1                                                  ['周璇']   \n",
       "2                                       ['P L Deshpande']   \n",
       "3                                        ['Zeenat Begum']   \n",
       "4       ['Giuseppe Verdi', 'Mario Rossi', 'Cristiano D...   \n",
       "...                                                   ...   \n",
       "169904                      ['Franklin Delano Roosevelt']   \n",
       "169905                              ['Elevation Worship']   \n",
       "169906                                 ['Lionel Hampton']   \n",
       "169907                                      ['Bob Dylan']   \n",
       "169908   ['2Pac', '50 Cent', 'Lloyd Banks', 'Young Buck']   \n",
       "\n",
       "                                                song_name        genres_y  \n",
       "0                             Singende Bataillone 1. Teil        chillhop  \n",
       "1                                               何日君再來 - 二        chillhop  \n",
       "2                                          Ja Ja Ga Sakhi        chillhop  \n",
       "3                             Kaliyon Ko Masalne Aaye Hai        chillhop  \n",
       "4       Verdi : Falstaff : Act 2 \"Signore, v'assista i...        chillhop  \n",
       "...                                                   ...             ...  \n",
       "169904  Address to Congress - Request for a declaratio...  canadian house  \n",
       "169905                                Resurrecting (Live)  canadian house  \n",
       "169906                                       Crazy Rhythm  canadian house  \n",
       "169907  A Hard Rain's A-Gonna Fall - Live at Carnegie ...  canadian house  \n",
       "169908                                  Loyal To The Game    irish ballad  \n",
       "\n",
       "[169909 rows x 18 columns]"
      ],
      "text/html": "<div>\n<style scoped>\n    .dataframe tbody tr th:only-of-type {\n        vertical-align: middle;\n    }\n\n    .dataframe tbody tr th {\n        vertical-align: top;\n    }\n\n    .dataframe thead th {\n        text-align: right;\n    }\n</style>\n<table border=\"1\" class=\"dataframe\">\n  <thead>\n    <tr style=\"text-align: right;\">\n      <th></th>\n      <th>acousticness</th>\n      <th>danceability</th>\n      <th>duration_ms</th>\n      <th>energy</th>\n      <th>instrumentalness</th>\n      <th>key</th>\n      <th>liveness</th>\n      <th>loudness</th>\n      <th>mode</th>\n      <th>popularity</th>\n      <th>speechiness</th>\n      <th>tempo</th>\n      <th>valence</th>\n      <th>genres_x</th>\n      <th>numeric</th>\n      <th>artists</th>\n      <th>song_name</th>\n      <th>genres_y</th>\n    </tr>\n  </thead>\n  <tbody>\n    <tr>\n      <th>0</th>\n      <td>0.99500</td>\n      <td>0.708</td>\n      <td>158648</td>\n      <td>0.195</td>\n      <td>0.563000</td>\n      <td>10</td>\n      <td>0.1510</td>\n      <td>-12.428</td>\n      <td>1</td>\n      <td>0</td>\n      <td>0.0506</td>\n      <td>118.469</td>\n      <td>0.779</td>\n      <td>471</td>\n      <td>471</td>\n      <td>['Carl Woitschach']</td>\n      <td>Singende Bataillone 1. Teil</td>\n      <td>chillhop</td>\n    </tr>\n    <tr>\n      <th>1</th>\n      <td>0.99500</td>\n      <td>0.628</td>\n      <td>158840</td>\n      <td>0.153</td>\n      <td>0.035200</td>\n      <td>5</td>\n      <td>0.2530</td>\n      <td>-14.279</td>\n      <td>1</td>\n      <td>2</td>\n      <td>0.0413</td>\n      <td>116.931</td>\n      <td>0.712</td>\n      <td>471</td>\n      <td>471</td>\n      <td>['周璇']</td>\n      <td>何日君再來 - 二</td>\n      <td>chillhop</td>\n    </tr>\n    <tr>\n      <th>2</th>\n      <td>0.97500</td>\n      <td>0.651</td>\n      <td>158693</td>\n      <td>0.205</td>\n      <td>0.887000</td>\n      <td>8</td>\n      <td>0.1600</td>\n      <td>-19.530</td>\n      <td>1</td>\n      <td>0</td>\n      <td>0.2560</td>\n      <td>113.197</td>\n      <td>0.531</td>\n      <td>471</td>\n      <td>471</td>\n      <td>['P L Deshpande']</td>\n      <td>Ja Ja Ga Sakhi</td>\n      <td>chillhop</td>\n    </tr>\n    <tr>\n      <th>3</th>\n      <td>0.99200</td>\n      <td>0.380</td>\n      <td>158507</td>\n      <td>0.318</td>\n      <td>0.093800</td>\n      <td>0</td>\n      <td>0.1420</td>\n      <td>-12.737</td>\n      <td>1</td>\n      <td>0</td>\n      <td>0.0383</td>\n      <td>67.697</td>\n      <td>0.705</td>\n      <td>471</td>\n      <td>471</td>\n      <td>['Zeenat Begum']</td>\n      <td>Kaliyon Ko Masalne Aaye Hai</td>\n      <td>chillhop</td>\n    </tr>\n    <tr>\n      <th>4</th>\n      <td>0.98300</td>\n      <td>0.507</td>\n      <td>158773</td>\n      <td>0.235</td>\n      <td>0.000258</td>\n      <td>7</td>\n      <td>0.2640</td>\n      <td>-15.623</td>\n      <td>1</td>\n      <td>0</td>\n      <td>0.0621</td>\n      <td>82.843</td>\n      <td>0.438</td>\n      <td>471</td>\n      <td>471</td>\n      <td>['Giuseppe Verdi', 'Mario Rossi', 'Cristiano D...</td>\n      <td>Verdi : Falstaff : Act 2 \"Signore, v'assista i...</td>\n      <td>chillhop</td>\n    </tr>\n    <tr>\n      <th>...</th>\n      <td>...</td>\n      <td>...</td>\n      <td>...</td>\n      <td>...</td>\n      <td>...</td>\n      <td>...</td>\n      <td>...</td>\n      <td>...</td>\n      <td>...</td>\n      <td>...</td>\n      <td>...</td>\n      <td>...</td>\n      <td>...</td>\n      <td>...</td>\n      <td>...</td>\n      <td>...</td>\n      <td>...</td>\n      <td>...</td>\n    </tr>\n    <tr>\n      <th>169904</th>\n      <td>0.93200</td>\n      <td>0.666</td>\n      <td>467010</td>\n      <td>0.571</td>\n      <td>0.000000</td>\n      <td>11</td>\n      <td>0.9550</td>\n      <td>-9.749</td>\n      <td>0</td>\n      <td>0</td>\n      <td>0.8980</td>\n      <td>132.483</td>\n      <td>0.447</td>\n      <td>383</td>\n      <td>383</td>\n      <td>['Franklin Delano Roosevelt']</td>\n      <td>Address to Congress - Request for a declaratio...</td>\n      <td>canadian house</td>\n    </tr>\n    <tr>\n      <th>169905</th>\n      <td>0.00858</td>\n      <td>0.403</td>\n      <td>467053</td>\n      <td>0.557</td>\n      <td>0.000000</td>\n      <td>1</td>\n      <td>0.7200</td>\n      <td>-6.018</td>\n      <td>1</td>\n      <td>62</td>\n      <td>0.0314</td>\n      <td>73.998</td>\n      <td>0.203</td>\n      <td>383</td>\n      <td>383</td>\n      <td>['Elevation Worship']</td>\n      <td>Resurrecting (Live)</td>\n      <td>canadian house</td>\n    </tr>\n    <tr>\n      <th>169906</th>\n      <td>0.84600</td>\n      <td>0.616</td>\n      <td>467013</td>\n      <td>0.420</td>\n      <td>0.030000</td>\n      <td>5</td>\n      <td>0.1370</td>\n      <td>-11.155</td>\n      <td>1</td>\n      <td>6</td>\n      <td>0.0331</td>\n      <td>99.848</td>\n      <td>0.736</td>\n      <td>383</td>\n      <td>383</td>\n      <td>['Lionel Hampton']</td>\n      <td>Crazy Rhythm</td>\n      <td>canadian house</td>\n    </tr>\n    <tr>\n      <th>169907</th>\n      <td>0.81800</td>\n      <td>0.442</td>\n      <td>466933</td>\n      <td>0.266</td>\n      <td>0.000000</td>\n      <td>4</td>\n      <td>0.8870</td>\n      <td>-12.806</td>\n      <td>1</td>\n      <td>27</td>\n      <td>0.0347</td>\n      <td>159.045</td>\n      <td>0.186</td>\n      <td>383</td>\n      <td>383</td>\n      <td>['Bob Dylan']</td>\n      <td>A Hard Rain's A-Gonna Fall - Live at Carnegie ...</td>\n      <td>canadian house</td>\n    </tr>\n    <tr>\n      <th>169908</th>\n      <td>0.11600</td>\n      <td>0.908</td>\n      <td>203520</td>\n      <td>0.573</td>\n      <td>0.000547</td>\n      <td>1</td>\n      <td>0.0926</td>\n      <td>-4.807</td>\n      <td>1</td>\n      <td>59</td>\n      <td>0.0871</td>\n      <td>98.137</td>\n      <td>0.723</td>\n      <td>1272</td>\n      <td>1272</td>\n      <td>['2Pac', '50 Cent', 'Lloyd Banks', 'Young Buck']</td>\n      <td>Loyal To The Game</td>\n      <td>irish ballad</td>\n    </tr>\n  </tbody>\n</table>\n<p>169909 rows × 18 columns</p>\n</div>"
     },
     "metadata": {},
     "execution_count": 28
    }
   ],
   "source": [
    "test"
   ]
  },
  {
   "cell_type": "code",
   "execution_count": 46,
   "metadata": {},
   "outputs": [],
   "source": [
    "test = test.drop(columns=['genres_x','numeric'])"
   ]
  },
  {
   "cell_type": "code",
   "execution_count": 47,
   "metadata": {},
   "outputs": [],
   "source": [
    "test = test.rename(columns={'genres_y':'genre'})"
   ]
  },
  {
   "cell_type": "code",
   "execution_count": 55,
   "metadata": {},
   "outputs": [],
   "source": [
    "test['artists'] = test['artists'].astype('str')"
   ]
  },
  {
   "cell_type": "code",
   "execution_count": 98,
   "metadata": {},
   "outputs": [],
   "source": [
    "test['artist'] = test['artists'].str.get(4)"
   ]
  },
  {
   "cell_type": "code",
   "execution_count": null,
   "metadata": {},
   "outputs": [],
   "source": [
    "for item in test['artist']:\n",
    "    test['artist'] = test['artists'].str.extract()"
   ]
  },
  {
   "cell_type": "code",
   "execution_count": 100,
   "metadata": {},
   "outputs": [
    {
     "output_type": "execute_result",
     "data": {
      "text/plain": [
       "        acousticness  danceability  duration_ms  energy  instrumentalness  \\\n",
       "0            0.99500         0.708       158648   0.195          0.563000   \n",
       "1            0.99500         0.628       158840   0.153          0.035200   \n",
       "2            0.97500         0.651       158693   0.205          0.887000   \n",
       "3            0.99200         0.380       158507   0.318          0.093800   \n",
       "4            0.98300         0.507       158773   0.235          0.000258   \n",
       "...              ...           ...          ...     ...               ...   \n",
       "169904       0.93200         0.666       467010   0.571          0.000000   \n",
       "169905       0.00858         0.403       467053   0.557          0.000000   \n",
       "169906       0.84600         0.616       467013   0.420          0.030000   \n",
       "169907       0.81800         0.442       466933   0.266          0.000000   \n",
       "169908       0.11600         0.908       203520   0.573          0.000547   \n",
       "\n",
       "        key  liveness  loudness  mode  popularity  speechiness    tempo  \\\n",
       "0        10    0.1510   -12.428     1           0       0.0506  118.469   \n",
       "1         5    0.2530   -14.279     1           2       0.0413  116.931   \n",
       "2         8    0.1600   -19.530     1           0       0.2560  113.197   \n",
       "3         0    0.1420   -12.737     1           0       0.0383   67.697   \n",
       "4         7    0.2640   -15.623     1           0       0.0621   82.843   \n",
       "...     ...       ...       ...   ...         ...          ...      ...   \n",
       "169904   11    0.9550    -9.749     0           0       0.8980  132.483   \n",
       "169905    1    0.7200    -6.018     1          62       0.0314   73.998   \n",
       "169906    5    0.1370   -11.155     1           6       0.0331   99.848   \n",
       "169907    4    0.8870   -12.806     1          27       0.0347  159.045   \n",
       "169908    1    0.0926    -4.807     1          59       0.0871   98.137   \n",
       "\n",
       "        valence                                            artists  \\\n",
       "0         0.779                                ['Carl Woitschach']   \n",
       "1         0.712                                             ['周璇']   \n",
       "2         0.531                                  ['P L Deshpande']   \n",
       "3         0.705                                   ['Zeenat Begum']   \n",
       "4         0.438  ['Giuseppe Verdi', 'Mario Rossi', 'Cristiano D...   \n",
       "...         ...                                                ...   \n",
       "169904    0.447                      ['Franklin Delano Roosevelt']   \n",
       "169905    0.203                              ['Elevation Worship']   \n",
       "169906    0.736                                 ['Lionel Hampton']   \n",
       "169907    0.186                                      ['Bob Dylan']   \n",
       "169908    0.723   ['2Pac', '50 Cent', 'Lloyd Banks', 'Young Buck']   \n",
       "\n",
       "                                                song_name           genre  \n",
       "0                             Singende Bataillone 1. Teil        chillhop  \n",
       "1                                               何日君再來 - 二        chillhop  \n",
       "2                                          Ja Ja Ga Sakhi        chillhop  \n",
       "3                             Kaliyon Ko Masalne Aaye Hai        chillhop  \n",
       "4       Verdi : Falstaff : Act 2 \"Signore, v'assista i...        chillhop  \n",
       "...                                                   ...             ...  \n",
       "169904  Address to Congress - Request for a declaratio...  canadian house  \n",
       "169905                                Resurrecting (Live)  canadian house  \n",
       "169906                                       Crazy Rhythm  canadian house  \n",
       "169907  A Hard Rain's A-Gonna Fall - Live at Carnegie ...  canadian house  \n",
       "169908                                  Loyal To The Game    irish ballad  \n",
       "\n",
       "[169909 rows x 16 columns]"
      ],
      "text/html": "<div>\n<style scoped>\n    .dataframe tbody tr th:only-of-type {\n        vertical-align: middle;\n    }\n\n    .dataframe tbody tr th {\n        vertical-align: top;\n    }\n\n    .dataframe thead th {\n        text-align: right;\n    }\n</style>\n<table border=\"1\" class=\"dataframe\">\n  <thead>\n    <tr style=\"text-align: right;\">\n      <th></th>\n      <th>acousticness</th>\n      <th>danceability</th>\n      <th>duration_ms</th>\n      <th>energy</th>\n      <th>instrumentalness</th>\n      <th>key</th>\n      <th>liveness</th>\n      <th>loudness</th>\n      <th>mode</th>\n      <th>popularity</th>\n      <th>speechiness</th>\n      <th>tempo</th>\n      <th>valence</th>\n      <th>artists</th>\n      <th>song_name</th>\n      <th>genre</th>\n    </tr>\n  </thead>\n  <tbody>\n    <tr>\n      <th>0</th>\n      <td>0.99500</td>\n      <td>0.708</td>\n      <td>158648</td>\n      <td>0.195</td>\n      <td>0.563000</td>\n      <td>10</td>\n      <td>0.1510</td>\n      <td>-12.428</td>\n      <td>1</td>\n      <td>0</td>\n      <td>0.0506</td>\n      <td>118.469</td>\n      <td>0.779</td>\n      <td>['Carl Woitschach']</td>\n      <td>Singende Bataillone 1. Teil</td>\n      <td>chillhop</td>\n    </tr>\n    <tr>\n      <th>1</th>\n      <td>0.99500</td>\n      <td>0.628</td>\n      <td>158840</td>\n      <td>0.153</td>\n      <td>0.035200</td>\n      <td>5</td>\n      <td>0.2530</td>\n      <td>-14.279</td>\n      <td>1</td>\n      <td>2</td>\n      <td>0.0413</td>\n      <td>116.931</td>\n      <td>0.712</td>\n      <td>['周璇']</td>\n      <td>何日君再來 - 二</td>\n      <td>chillhop</td>\n    </tr>\n    <tr>\n      <th>2</th>\n      <td>0.97500</td>\n      <td>0.651</td>\n      <td>158693</td>\n      <td>0.205</td>\n      <td>0.887000</td>\n      <td>8</td>\n      <td>0.1600</td>\n      <td>-19.530</td>\n      <td>1</td>\n      <td>0</td>\n      <td>0.2560</td>\n      <td>113.197</td>\n      <td>0.531</td>\n      <td>['P L Deshpande']</td>\n      <td>Ja Ja Ga Sakhi</td>\n      <td>chillhop</td>\n    </tr>\n    <tr>\n      <th>3</th>\n      <td>0.99200</td>\n      <td>0.380</td>\n      <td>158507</td>\n      <td>0.318</td>\n      <td>0.093800</td>\n      <td>0</td>\n      <td>0.1420</td>\n      <td>-12.737</td>\n      <td>1</td>\n      <td>0</td>\n      <td>0.0383</td>\n      <td>67.697</td>\n      <td>0.705</td>\n      <td>['Zeenat Begum']</td>\n      <td>Kaliyon Ko Masalne Aaye Hai</td>\n      <td>chillhop</td>\n    </tr>\n    <tr>\n      <th>4</th>\n      <td>0.98300</td>\n      <td>0.507</td>\n      <td>158773</td>\n      <td>0.235</td>\n      <td>0.000258</td>\n      <td>7</td>\n      <td>0.2640</td>\n      <td>-15.623</td>\n      <td>1</td>\n      <td>0</td>\n      <td>0.0621</td>\n      <td>82.843</td>\n      <td>0.438</td>\n      <td>['Giuseppe Verdi', 'Mario Rossi', 'Cristiano D...</td>\n      <td>Verdi : Falstaff : Act 2 \"Signore, v'assista i...</td>\n      <td>chillhop</td>\n    </tr>\n    <tr>\n      <th>...</th>\n      <td>...</td>\n      <td>...</td>\n      <td>...</td>\n      <td>...</td>\n      <td>...</td>\n      <td>...</td>\n      <td>...</td>\n      <td>...</td>\n      <td>...</td>\n      <td>...</td>\n      <td>...</td>\n      <td>...</td>\n      <td>...</td>\n      <td>...</td>\n      <td>...</td>\n      <td>...</td>\n    </tr>\n    <tr>\n      <th>169904</th>\n      <td>0.93200</td>\n      <td>0.666</td>\n      <td>467010</td>\n      <td>0.571</td>\n      <td>0.000000</td>\n      <td>11</td>\n      <td>0.9550</td>\n      <td>-9.749</td>\n      <td>0</td>\n      <td>0</td>\n      <td>0.8980</td>\n      <td>132.483</td>\n      <td>0.447</td>\n      <td>['Franklin Delano Roosevelt']</td>\n      <td>Address to Congress - Request for a declaratio...</td>\n      <td>canadian house</td>\n    </tr>\n    <tr>\n      <th>169905</th>\n      <td>0.00858</td>\n      <td>0.403</td>\n      <td>467053</td>\n      <td>0.557</td>\n      <td>0.000000</td>\n      <td>1</td>\n      <td>0.7200</td>\n      <td>-6.018</td>\n      <td>1</td>\n      <td>62</td>\n      <td>0.0314</td>\n      <td>73.998</td>\n      <td>0.203</td>\n      <td>['Elevation Worship']</td>\n      <td>Resurrecting (Live)</td>\n      <td>canadian house</td>\n    </tr>\n    <tr>\n      <th>169906</th>\n      <td>0.84600</td>\n      <td>0.616</td>\n      <td>467013</td>\n      <td>0.420</td>\n      <td>0.030000</td>\n      <td>5</td>\n      <td>0.1370</td>\n      <td>-11.155</td>\n      <td>1</td>\n      <td>6</td>\n      <td>0.0331</td>\n      <td>99.848</td>\n      <td>0.736</td>\n      <td>['Lionel Hampton']</td>\n      <td>Crazy Rhythm</td>\n      <td>canadian house</td>\n    </tr>\n    <tr>\n      <th>169907</th>\n      <td>0.81800</td>\n      <td>0.442</td>\n      <td>466933</td>\n      <td>0.266</td>\n      <td>0.000000</td>\n      <td>4</td>\n      <td>0.8870</td>\n      <td>-12.806</td>\n      <td>1</td>\n      <td>27</td>\n      <td>0.0347</td>\n      <td>159.045</td>\n      <td>0.186</td>\n      <td>['Bob Dylan']</td>\n      <td>A Hard Rain's A-Gonna Fall - Live at Carnegie ...</td>\n      <td>canadian house</td>\n    </tr>\n    <tr>\n      <th>169908</th>\n      <td>0.11600</td>\n      <td>0.908</td>\n      <td>203520</td>\n      <td>0.573</td>\n      <td>0.000547</td>\n      <td>1</td>\n      <td>0.0926</td>\n      <td>-4.807</td>\n      <td>1</td>\n      <td>59</td>\n      <td>0.0871</td>\n      <td>98.137</td>\n      <td>0.723</td>\n      <td>['2Pac', '50 Cent', 'Lloyd Banks', 'Young Buck']</td>\n      <td>Loyal To The Game</td>\n      <td>irish ballad</td>\n    </tr>\n  </tbody>\n</table>\n<p>169909 rows × 16 columns</p>\n</div>"
     },
     "metadata": {},
     "execution_count": 100
    }
   ],
   "source": [
    "test.drop(columns='artist')"
   ]
  },
  {
   "cell_type": "code",
   "execution_count": 63,
   "metadata": {},
   "outputs": [
    {
     "output_type": "execute_result",
     "data": {
      "text/plain": [
       "0                                       ['Carl Woitschach']\n",
       "1                                                    ['周璇']\n",
       "2                                         ['P L Deshpande']\n",
       "3                                          ['Zeenat Begum']\n",
       "4         ['Giuseppe Verdi', 'Mario Rossi', 'Cristiano D...\n",
       "                                ...                        \n",
       "169904                        ['Franklin Delano Roosevelt']\n",
       "169905                                ['Elevation Worship']\n",
       "169906                                   ['Lionel Hampton']\n",
       "169907                                        ['Bob Dylan']\n",
       "169908     ['2Pac', '50 Cent', 'Lloyd Banks', 'Young Buck']\n",
       "Name: artists, Length: 169909, dtype: object"
      ]
     },
     "metadata": {},
     "execution_count": 63
    }
   ],
   "source": [
    "#for num in test['artists']:\n",
    "test['artists'].replace(\"[\",\"\")"
   ]
  },
  {
   "cell_type": "code",
   "execution_count": null,
   "metadata": {},
   "outputs": [],
   "source": []
  }
 ]
}